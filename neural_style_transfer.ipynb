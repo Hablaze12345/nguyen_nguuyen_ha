{
  "nbformat": 4,
  "nbformat_minor": 0,
  "metadata": {
    "colab": {
      "provenance": [],
      "gpuType": "T4"
    },
    "kernelspec": {
      "name": "python3",
      "display_name": "Python 3"
    },
    "language_info": {
      "name": "python"
    },
    "accelerator": "GPU"
  },
  "cells": [
    {
      "cell_type": "code",
      "source": [
        "!pip install torch_snippets\n",
        "from torch_snippets import *\n",
        "from torchvision import transforms as T\n",
        "from torch.nn import functional as F\n",
        "device = 'cuda' if torch.cuda.is_available() else 'cpu'"
      ],
      "metadata": {
        "colab": {
          "base_uri": "https://localhost:8080/"
        },
        "id": "cp9bIgy-pDw9",
        "outputId": "ed9fa517-ac7a-4aa9-921f-afb92d9f4595"
      },
      "execution_count": 5,
      "outputs": [
        {
          "output_type": "stream",
          "name": "stdout",
          "text": [
            "Requirement already satisfied: torch_snippets in /usr/local/lib/python3.10/dist-packages (0.499.34)\n",
            "Requirement already satisfied: fastcore in /usr/local/lib/python3.10/dist-packages (from torch_snippets) (1.5.29)\n",
            "Requirement already satisfied: matplotlib in /usr/local/lib/python3.10/dist-packages (from torch_snippets) (3.7.1)\n",
            "Requirement already satisfied: Pillow in /usr/local/lib/python3.10/dist-packages (from torch_snippets) (8.4.0)\n",
            "Requirement already satisfied: altair in /usr/local/lib/python3.10/dist-packages (from torch_snippets) (4.2.2)\n",
            "Requirement already satisfied: dill in /usr/local/lib/python3.10/dist-packages (from torch_snippets) (0.3.6)\n",
            "Requirement already satisfied: ipython in /usr/local/lib/python3.10/dist-packages (from torch_snippets) (7.34.0)\n",
            "Requirement already satisfied: loguru in /usr/local/lib/python3.10/dist-packages (from torch_snippets) (0.7.0)\n",
            "Requirement already satisfied: numpy in /usr/local/lib/python3.10/dist-packages (from torch_snippets) (1.22.4)\n",
            "Requirement already satisfied: pandas in /usr/local/lib/python3.10/dist-packages (from torch_snippets) (1.5.3)\n",
            "Requirement already satisfied: tqdm in /usr/local/lib/python3.10/dist-packages (from torch_snippets) (4.65.0)\n",
            "Requirement already satisfied: rich in /usr/local/lib/python3.10/dist-packages (from torch_snippets) (13.4.2)\n",
            "Requirement already satisfied: PyYAML in /usr/local/lib/python3.10/dist-packages (from torch_snippets) (6.0)\n",
            "Requirement already satisfied: catalogue in /usr/local/lib/python3.10/dist-packages (from torch_snippets) (2.0.8)\n",
            "Requirement already satisfied: confection in /usr/local/lib/python3.10/dist-packages (from torch_snippets) (0.1.0)\n",
            "Requirement already satisfied: pydantic in /usr/local/lib/python3.10/dist-packages (from torch_snippets) (1.10.11)\n",
            "Requirement already satisfied: typing in /usr/local/lib/python3.10/dist-packages (from torch_snippets) (3.7.4.3)\n",
            "Requirement already satisfied: srsly in /usr/local/lib/python3.10/dist-packages (from torch_snippets) (2.4.6)\n",
            "Requirement already satisfied: typing-extensions in /usr/local/lib/python3.10/dist-packages (from torch_snippets) (4.7.1)\n",
            "Requirement already satisfied: wasabi in /usr/local/lib/python3.10/dist-packages (from torch_snippets) (1.1.2)\n",
            "Requirement already satisfied: jsonlines in /usr/local/lib/python3.10/dist-packages (from torch_snippets) (3.1.0)\n",
            "Requirement already satisfied: imgaug>=0.4.0 in /usr/local/lib/python3.10/dist-packages (from torch_snippets) (0.4.0)\n",
            "Requirement already satisfied: xmltodict in /usr/local/lib/python3.10/dist-packages (from torch_snippets) (0.13.0)\n",
            "Requirement already satisfied: fuzzywuzzy in /usr/local/lib/python3.10/dist-packages (from torch_snippets) (0.18.0)\n",
            "Requirement already satisfied: scikit-learn in /usr/local/lib/python3.10/dist-packages (from torch_snippets) (1.2.2)\n",
            "Requirement already satisfied: nltk in /usr/local/lib/python3.10/dist-packages (from torch_snippets) (3.8.1)\n",
            "Requirement already satisfied: python-Levenshtein in /usr/local/lib/python3.10/dist-packages (from torch_snippets) (0.21.1)\n",
            "Requirement already satisfied: pre-commit in /usr/local/lib/python3.10/dist-packages (from torch_snippets) (3.3.3)\n",
            "Requirement already satisfied: pymupdf in /usr/local/lib/python3.10/dist-packages (from torch_snippets) (1.22.5)\n",
            "Requirement already satisfied: nbconvert in /usr/local/lib/python3.10/dist-packages (from torch_snippets) (6.5.4)\n",
            "Requirement already satisfied: nbformat in /usr/local/lib/python3.10/dist-packages (from torch_snippets) (5.9.1)\n",
            "Requirement already satisfied: six in /usr/local/lib/python3.10/dist-packages (from imgaug>=0.4.0->torch_snippets) (1.16.0)\n",
            "Requirement already satisfied: scipy in /usr/local/lib/python3.10/dist-packages (from imgaug>=0.4.0->torch_snippets) (1.10.1)\n",
            "Requirement already satisfied: scikit-image>=0.14.2 in /usr/local/lib/python3.10/dist-packages (from imgaug>=0.4.0->torch_snippets) (0.19.3)\n",
            "Requirement already satisfied: opencv-python in /usr/local/lib/python3.10/dist-packages (from imgaug>=0.4.0->torch_snippets) (4.7.0.72)\n",
            "Requirement already satisfied: imageio in /usr/local/lib/python3.10/dist-packages (from imgaug>=0.4.0->torch_snippets) (2.25.1)\n",
            "Requirement already satisfied: Shapely in /usr/local/lib/python3.10/dist-packages (from imgaug>=0.4.0->torch_snippets) (2.0.1)\n",
            "Requirement already satisfied: entrypoints in /usr/local/lib/python3.10/dist-packages (from altair->torch_snippets) (0.4)\n",
            "Requirement already satisfied: jinja2 in /usr/local/lib/python3.10/dist-packages (from altair->torch_snippets) (3.1.2)\n",
            "Requirement already satisfied: jsonschema>=3.0 in /usr/local/lib/python3.10/dist-packages (from altair->torch_snippets) (4.3.3)\n",
            "Requirement already satisfied: toolz in /usr/local/lib/python3.10/dist-packages (from altair->torch_snippets) (0.12.0)\n",
            "Requirement already satisfied: python-dateutil>=2.8.1 in /usr/local/lib/python3.10/dist-packages (from pandas->torch_snippets) (2.8.2)\n",
            "Requirement already satisfied: pytz>=2020.1 in /usr/local/lib/python3.10/dist-packages (from pandas->torch_snippets) (2022.7.1)\n",
            "Requirement already satisfied: pip in /usr/local/lib/python3.10/dist-packages (from fastcore->torch_snippets) (23.1.2)\n",
            "Requirement already satisfied: packaging in /usr/local/lib/python3.10/dist-packages (from fastcore->torch_snippets) (23.1)\n",
            "Requirement already satisfied: setuptools>=18.5 in /usr/local/lib/python3.10/dist-packages (from ipython->torch_snippets) (67.7.2)\n",
            "Requirement already satisfied: jedi>=0.16 in /usr/local/lib/python3.10/dist-packages (from ipython->torch_snippets) (0.18.2)\n",
            "Requirement already satisfied: decorator in /usr/local/lib/python3.10/dist-packages (from ipython->torch_snippets) (4.4.2)\n",
            "Requirement already satisfied: pickleshare in /usr/local/lib/python3.10/dist-packages (from ipython->torch_snippets) (0.7.5)\n",
            "Requirement already satisfied: traitlets>=4.2 in /usr/local/lib/python3.10/dist-packages (from ipython->torch_snippets) (5.7.1)\n",
            "Requirement already satisfied: prompt-toolkit!=3.0.0,!=3.0.1,<3.1.0,>=2.0.0 in /usr/local/lib/python3.10/dist-packages (from ipython->torch_snippets) (3.0.39)\n",
            "Requirement already satisfied: pygments in /usr/local/lib/python3.10/dist-packages (from ipython->torch_snippets) (2.14.0)\n",
            "Requirement already satisfied: backcall in /usr/local/lib/python3.10/dist-packages (from ipython->torch_snippets) (0.2.0)\n",
            "Requirement already satisfied: matplotlib-inline in /usr/local/lib/python3.10/dist-packages (from ipython->torch_snippets) (0.1.6)\n",
            "Requirement already satisfied: pexpect>4.3 in /usr/local/lib/python3.10/dist-packages (from ipython->torch_snippets) (4.8.0)\n",
            "Requirement already satisfied: attrs>=19.2.0 in /usr/local/lib/python3.10/dist-packages (from jsonlines->torch_snippets) (23.1.0)\n",
            "Requirement already satisfied: contourpy>=1.0.1 in /usr/local/lib/python3.10/dist-packages (from matplotlib->torch_snippets) (1.1.0)\n",
            "Requirement already satisfied: cycler>=0.10 in /usr/local/lib/python3.10/dist-packages (from matplotlib->torch_snippets) (0.11.0)\n",
            "Requirement already satisfied: fonttools>=4.22.0 in /usr/local/lib/python3.10/dist-packages (from matplotlib->torch_snippets) (4.41.0)\n",
            "Requirement already satisfied: kiwisolver>=1.0.1 in /usr/local/lib/python3.10/dist-packages (from matplotlib->torch_snippets) (1.4.4)\n",
            "Requirement already satisfied: pyparsing>=2.3.1 in /usr/local/lib/python3.10/dist-packages (from matplotlib->torch_snippets) (3.1.0)\n",
            "Requirement already satisfied: lxml in /usr/local/lib/python3.10/dist-packages (from nbconvert->torch_snippets) (4.9.3)\n",
            "Requirement already satisfied: beautifulsoup4 in /usr/local/lib/python3.10/dist-packages (from nbconvert->torch_snippets) (4.11.2)\n",
            "Requirement already satisfied: bleach in /usr/local/lib/python3.10/dist-packages (from nbconvert->torch_snippets) (6.0.0)\n",
            "Requirement already satisfied: defusedxml in /usr/local/lib/python3.10/dist-packages (from nbconvert->torch_snippets) (0.7.1)\n",
            "Requirement already satisfied: jupyter-core>=4.7 in /usr/local/lib/python3.10/dist-packages (from nbconvert->torch_snippets) (5.3.1)\n",
            "Requirement already satisfied: jupyterlab-pygments in /usr/local/lib/python3.10/dist-packages (from nbconvert->torch_snippets) (0.2.2)\n",
            "Requirement already satisfied: MarkupSafe>=2.0 in /usr/local/lib/python3.10/dist-packages (from nbconvert->torch_snippets) (2.1.3)\n",
            "Requirement already satisfied: mistune<2,>=0.8.1 in /usr/local/lib/python3.10/dist-packages (from nbconvert->torch_snippets) (0.8.4)\n",
            "Requirement already satisfied: nbclient>=0.5.0 in /usr/local/lib/python3.10/dist-packages (from nbconvert->torch_snippets) (0.8.0)\n",
            "Requirement already satisfied: pandocfilters>=1.4.1 in /usr/local/lib/python3.10/dist-packages (from nbconvert->torch_snippets) (1.5.0)\n",
            "Requirement already satisfied: tinycss2 in /usr/local/lib/python3.10/dist-packages (from nbconvert->torch_snippets) (1.2.1)\n",
            "Requirement already satisfied: fastjsonschema in /usr/local/lib/python3.10/dist-packages (from nbformat->torch_snippets) (2.17.1)\n",
            "Requirement already satisfied: click in /usr/local/lib/python3.10/dist-packages (from nltk->torch_snippets) (8.1.4)\n",
            "Requirement already satisfied: joblib in /usr/local/lib/python3.10/dist-packages (from nltk->torch_snippets) (1.3.1)\n",
            "Requirement already satisfied: regex>=2021.8.3 in /usr/local/lib/python3.10/dist-packages (from nltk->torch_snippets) (2022.10.31)\n",
            "Requirement already satisfied: cfgv>=2.0.0 in /usr/local/lib/python3.10/dist-packages (from pre-commit->torch_snippets) (3.3.1)\n",
            "Requirement already satisfied: identify>=1.0.0 in /usr/local/lib/python3.10/dist-packages (from pre-commit->torch_snippets) (2.5.25)\n",
            "Requirement already satisfied: nodeenv>=0.11.1 in /usr/local/lib/python3.10/dist-packages (from pre-commit->torch_snippets) (1.8.0)\n",
            "Requirement already satisfied: virtualenv>=20.10.0 in /usr/local/lib/python3.10/dist-packages (from pre-commit->torch_snippets) (20.24.1)\n",
            "Requirement already satisfied: Levenshtein==0.21.1 in /usr/local/lib/python3.10/dist-packages (from python-Levenshtein->torch_snippets) (0.21.1)\n",
            "Requirement already satisfied: rapidfuzz<4.0.0,>=2.3.0 in /usr/local/lib/python3.10/dist-packages (from Levenshtein==0.21.1->python-Levenshtein->torch_snippets) (3.1.2)\n",
            "Requirement already satisfied: markdown-it-py>=2.2.0 in /usr/local/lib/python3.10/dist-packages (from rich->torch_snippets) (3.0.0)\n",
            "Requirement already satisfied: threadpoolctl>=2.0.0 in /usr/local/lib/python3.10/dist-packages (from scikit-learn->torch_snippets) (3.1.0)\n",
            "Requirement already satisfied: parso<0.9.0,>=0.8.0 in /usr/local/lib/python3.10/dist-packages (from jedi>=0.16->ipython->torch_snippets) (0.8.3)\n",
            "Requirement already satisfied: pyrsistent!=0.17.0,!=0.17.1,!=0.17.2,>=0.14.0 in /usr/local/lib/python3.10/dist-packages (from jsonschema>=3.0->altair->torch_snippets) (0.19.3)\n",
            "Requirement already satisfied: platformdirs>=2.5 in /usr/local/lib/python3.10/dist-packages (from jupyter-core>=4.7->nbconvert->torch_snippets) (3.8.1)\n",
            "Requirement already satisfied: mdurl~=0.1 in /usr/local/lib/python3.10/dist-packages (from markdown-it-py>=2.2.0->rich->torch_snippets) (0.1.2)\n",
            "Requirement already satisfied: jupyter-client>=6.1.12 in /usr/local/lib/python3.10/dist-packages (from nbclient>=0.5.0->nbconvert->torch_snippets) (6.1.12)\n",
            "Requirement already satisfied: ptyprocess>=0.5 in /usr/local/lib/python3.10/dist-packages (from pexpect>4.3->ipython->torch_snippets) (0.7.0)\n",
            "Requirement already satisfied: wcwidth in /usr/local/lib/python3.10/dist-packages (from prompt-toolkit!=3.0.0,!=3.0.1,<3.1.0,>=2.0.0->ipython->torch_snippets) (0.2.6)\n",
            "Requirement already satisfied: networkx>=2.2 in /usr/local/lib/python3.10/dist-packages (from scikit-image>=0.14.2->imgaug>=0.4.0->torch_snippets) (3.1)\n",
            "Requirement already satisfied: tifffile>=2019.7.26 in /usr/local/lib/python3.10/dist-packages (from scikit-image>=0.14.2->imgaug>=0.4.0->torch_snippets) (2023.7.10)\n",
            "Requirement already satisfied: PyWavelets>=1.1.1 in /usr/local/lib/python3.10/dist-packages (from scikit-image>=0.14.2->imgaug>=0.4.0->torch_snippets) (1.4.1)\n",
            "Requirement already satisfied: distlib<1,>=0.3.6 in /usr/local/lib/python3.10/dist-packages (from virtualenv>=20.10.0->pre-commit->torch_snippets) (0.3.7)\n",
            "Requirement already satisfied: filelock<4,>=3.12 in /usr/local/lib/python3.10/dist-packages (from virtualenv>=20.10.0->pre-commit->torch_snippets) (3.12.2)\n",
            "Requirement already satisfied: soupsieve>1.2 in /usr/local/lib/python3.10/dist-packages (from beautifulsoup4->nbconvert->torch_snippets) (2.4.1)\n",
            "Requirement already satisfied: webencodings in /usr/local/lib/python3.10/dist-packages (from bleach->nbconvert->torch_snippets) (0.5.1)\n",
            "Requirement already satisfied: pyzmq>=13 in /usr/local/lib/python3.10/dist-packages (from jupyter-client>=6.1.12->nbclient>=0.5.0->nbconvert->torch_snippets) (23.2.1)\n",
            "Requirement already satisfied: tornado>=4.1 in /usr/local/lib/python3.10/dist-packages (from jupyter-client>=6.1.12->nbclient>=0.5.0->nbconvert->torch_snippets) (6.3.1)\n"
          ]
        }
      ]
    },
    {
      "cell_type": "code",
      "source": [
        "from torchvision.models import vgg19\n",
        "preprocess = T.Compose([\n",
        "    T.ToTensor(),\n",
        "    T.Normalize(mean=[0.485, 0.456, 0.406], std=[0.229, 0.224, 0.225]),\n",
        "    T.Lambda(lambda x: x.mul_(255))\n",
        "])\n",
        "postprocess = T.Compose([\n",
        "    T.Lambda(lambda x: x.mul_(1./255)),\n",
        "    T.Normalize(mean=[-0.485/0.229, -0.456/0.224, -0.406/0.225], std=[1/0.229, 1/0.224, 1/0.225]),\n",
        "])"
      ],
      "metadata": {
        "id": "E17aYLsopJP8"
      },
      "execution_count": 6,
      "outputs": []
    },
    {
      "cell_type": "code",
      "source": [
        "class GramMatrix(nn.Module):\n",
        "    def forward(self, input):\n",
        "        b,c,h,w = input.size()\n",
        "        feat = input.view(b, c, h*w)\n",
        "        G = feat@feat.transpose(1,2)\n",
        "        G.div_(h*w)\n",
        "        return G\n",
        "class GramMSELoss(nn.Module):\n",
        "    def forward(self, input, target):\n",
        "        out = F.mse_loss(GramMatrix()(input), target)\n",
        "        return(out)\n",
        "class vgg19_modified(nn.Module):\n",
        "    def __init__(self):\n",
        "        super().__init__()\n",
        "        features = list(vgg19(pretrained = True).features)\n",
        "        self.features = nn.ModuleList(features).eval()\n",
        "    def forward(self, x, layers=[]):\n",
        "        order = np.argsort(layers)\n",
        "        _results, results = [], []\n",
        "        for ix,model in enumerate(self.features):\n",
        "            x = model(x)\n",
        "            if ix in layers: _results.append(x)\n",
        "        for o in order: results.append(_results[o])\n",
        "        return results if layers is not [] else x"
      ],
      "metadata": {
        "id": "USDPV-klpWGg"
      },
      "execution_count": null,
      "outputs": []
    },
    {
      "cell_type": "code",
      "source": [
        "class GramMatrix(nn.Module):\n",
        "    def forward(self, input):\n",
        "        b,c,h,w = input.size()\n",
        "        feat = input.view(b, c, h*w)\n",
        "        G = feat@feat.transpose(1,2)\n",
        "        G.div_(h*w)\n",
        "        return G\n",
        "class GramMSELoss(nn.Module):\n",
        "    def forward(self, input, target):\n",
        "        out = F.mse_loss(GramMatrix()(input), target)\n",
        "        return(out)\n",
        "class vgg19_modified(nn.Module):\n",
        "    def __init__(self):\n",
        "        super().__init__()\n",
        "        features = list(vgg19(pretrained = True).features)\n",
        "        self.features = nn.ModuleList(features).eval()\n",
        "    def forward(self, x, layers=[]):\n",
        "        order = np.argsort(layers)\n",
        "        _results, results = [], []\n",
        "        for ix,model in enumerate(self.features):\n",
        "            x = model(x)\n",
        "            if ix in layers: _results.append(x)\n",
        "        for o in order: results.append(_results[o])\n",
        "        return results if layers is not [] else x"
      ],
      "metadata": {
        "id": "o1QGXY3gpYrr"
      },
      "execution_count": 7,
      "outputs": []
    },
    {
      "cell_type": "code",
      "source": [
        "vgg = vgg19_modified().to(device)"
      ],
      "metadata": {
        "colab": {
          "base_uri": "https://localhost:8080/"
        },
        "id": "5vbweVInpZhc",
        "outputId": "f4ef8850-8613-4ba6-8ebb-c15f23436b9d"
      },
      "execution_count": 8,
      "outputs": [
        {
          "output_type": "stream",
          "name": "stderr",
          "text": [
            "/usr/local/lib/python3.10/dist-packages/torchvision/models/_utils.py:208: UserWarning: The parameter 'pretrained' is deprecated since 0.13 and may be removed in the future, please use 'weights' instead.\n",
            "  warnings.warn(\n",
            "/usr/local/lib/python3.10/dist-packages/torchvision/models/_utils.py:223: UserWarning: Arguments other than a weight enum or `None` for 'weights' are deprecated since 0.13 and may be removed in the future. The current behavior is equivalent to passing `weights=VGG19_Weights.IMAGENET1K_V1`. You can also use `weights=VGG19_Weights.DEFAULT` to get the most up-to-date weights.\n",
            "  warnings.warn(msg)\n",
            "Downloading: \"https://download.pytorch.org/models/vgg19-dcbb9e9d.pth\" to /root/.cache/torch/hub/checkpoints/vgg19-dcbb9e9d.pth\n",
            "100%|██████████| 548M/548M [00:06<00:00, 94.2MB/s]\n"
          ]
        }
      ]
    },
    {
      "cell_type": "code",
      "source": [
        "!wget https://www.dropbox.com/s/z1y0fy2r6z6m6py/60.jpg\n",
        "!wget https://www.dropbox.com/s/1svdliljyo0a98v/style_image.png"
      ],
      "metadata": {
        "colab": {
          "base_uri": "https://localhost:8080/"
        },
        "id": "pxduWcidplrF",
        "outputId": "f003a086-0c5b-4135-c03c-5460c504d33d"
      },
      "execution_count": 9,
      "outputs": [
        {
          "output_type": "stream",
          "name": "stdout",
          "text": [
            "--2023-07-21 08:52:31--  https://www.dropbox.com/s/z1y0fy2r6z6m6py/60.jpg\n",
            "Resolving www.dropbox.com (www.dropbox.com)... 162.125.8.18, 2620:100:6018:18::a27d:312\n",
            "Connecting to www.dropbox.com (www.dropbox.com)|162.125.8.18|:443... connected.\n",
            "HTTP request sent, awaiting response... 302 Found\n",
            "Location: /s/raw/z1y0fy2r6z6m6py/60.jpg [following]\n",
            "--2023-07-21 08:52:32--  https://www.dropbox.com/s/raw/z1y0fy2r6z6m6py/60.jpg\n",
            "Reusing existing connection to www.dropbox.com:443.\n",
            "HTTP request sent, awaiting response... 302 Found\n",
            "Location: https://uc526925227e4a998868d445ccc8.dl.dropboxusercontent.com/cd/0/inline/CASvH62K5_X_gzzCCAxhYsivo7UpkDLkMimHOwQM71VRr4LXngPJwCxo9mkwi-FJrzpzxW2HmQ04aHoZJeKs3MWJskU7RahyXXjvFHVQeKQQA42G3cTWC1lH1FQsytnmPR6sUWrIcVcL1YV0ZlAFuYZjERYlFRtJxcnzKxXez-PEvA/file# [following]\n",
            "--2023-07-21 08:52:32--  https://uc526925227e4a998868d445ccc8.dl.dropboxusercontent.com/cd/0/inline/CASvH62K5_X_gzzCCAxhYsivo7UpkDLkMimHOwQM71VRr4LXngPJwCxo9mkwi-FJrzpzxW2HmQ04aHoZJeKs3MWJskU7RahyXXjvFHVQeKQQA42G3cTWC1lH1FQsytnmPR6sUWrIcVcL1YV0ZlAFuYZjERYlFRtJxcnzKxXez-PEvA/file\n",
            "Resolving uc526925227e4a998868d445ccc8.dl.dropboxusercontent.com (uc526925227e4a998868d445ccc8.dl.dropboxusercontent.com)... 162.125.3.15, 2620:100:6018:15::a27d:30f\n",
            "Connecting to uc526925227e4a998868d445ccc8.dl.dropboxusercontent.com (uc526925227e4a998868d445ccc8.dl.dropboxusercontent.com)|162.125.3.15|:443... connected.\n",
            "HTTP request sent, awaiting response... 200 OK\n",
            "Length: 3650056 (3.5M) [image/jpeg]\n",
            "Saving to: ‘60.jpg’\n",
            "\n",
            "60.jpg              100%[===================>]   3.48M  --.-KB/s    in 0.08s   \n",
            "\n",
            "2023-07-21 08:52:33 (44.3 MB/s) - ‘60.jpg’ saved [3650056/3650056]\n",
            "\n",
            "--2023-07-21 08:52:33--  https://www.dropbox.com/s/1svdliljyo0a98v/style_image.png\n",
            "Resolving www.dropbox.com (www.dropbox.com)... 162.125.8.18, 2620:100:6018:18::a27d:312\n",
            "Connecting to www.dropbox.com (www.dropbox.com)|162.125.8.18|:443... connected.\n",
            "HTTP request sent, awaiting response... 302 Found\n",
            "Location: /s/raw/1svdliljyo0a98v/style_image.png [following]\n",
            "--2023-07-21 08:52:33--  https://www.dropbox.com/s/raw/1svdliljyo0a98v/style_image.png\n",
            "Reusing existing connection to www.dropbox.com:443.\n",
            "HTTP request sent, awaiting response... 302 Found\n",
            "Location: https://uc9a88f0cca268a19cfdc3a111e7.dl.dropboxusercontent.com/cd/0/inline/CATJE0eIiWaL00TwC0JAwG8uWJXbVnIpeyYFDv5Pf83pb6cJhT3D5nkAqIGXZEC9QvJTGfeLTEKK5TCpulY_oGN_j3ikEozKPhY3BUJ9VKaS-T9Z8-mCvvEhLQ5js_YAmO2QuOVg-9Z79xoPdGbCfvdNkGOGafk2xkd10u_b6adTuA/file# [following]\n",
            "--2023-07-21 08:52:33--  https://uc9a88f0cca268a19cfdc3a111e7.dl.dropboxusercontent.com/cd/0/inline/CATJE0eIiWaL00TwC0JAwG8uWJXbVnIpeyYFDv5Pf83pb6cJhT3D5nkAqIGXZEC9QvJTGfeLTEKK5TCpulY_oGN_j3ikEozKPhY3BUJ9VKaS-T9Z8-mCvvEhLQ5js_YAmO2QuOVg-9Z79xoPdGbCfvdNkGOGafk2xkd10u_b6adTuA/file\n",
            "Resolving uc9a88f0cca268a19cfdc3a111e7.dl.dropboxusercontent.com (uc9a88f0cca268a19cfdc3a111e7.dl.dropboxusercontent.com)... 162.125.8.15, 2620:100:6018:15::a27d:30f\n",
            "Connecting to uc9a88f0cca268a19cfdc3a111e7.dl.dropboxusercontent.com (uc9a88f0cca268a19cfdc3a111e7.dl.dropboxusercontent.com)|162.125.8.15|:443... connected.\n",
            "HTTP request sent, awaiting response... 200 OK\n",
            "Length: 618980 (604K) [image/png]\n",
            "Saving to: ‘style_image.png’\n",
            "\n",
            "style_image.png     100%[===================>] 604.47K  --.-KB/s    in 0.08s   \n",
            "\n",
            "2023-07-21 08:52:34 (7.59 MB/s) - ‘style_image.png’ saved [618980/618980]\n",
            "\n"
          ]
        }
      ]
    },
    {
      "cell_type": "code",
      "source": [
        "imgs = [Image.open(path).resize((512,512)).convert('RGB') for path in ['style_image.png', '60.jpg']]\n",
        "style_image, content_image = [preprocess(img).to(device)[None] for img in imgs]"
      ],
      "metadata": {
        "id": "4zSa3Jrrpnor"
      },
      "execution_count": 10,
      "outputs": []
    },
    {
      "cell_type": "code",
      "source": [
        "opt_img = content_image.data.clone()\n",
        "opt_img.requires_grad = True"
      ],
      "metadata": {
        "id": "BLnqb2_QpvRQ"
      },
      "execution_count": 11,
      "outputs": []
    },
    {
      "cell_type": "code",
      "source": [
        "style_layers = [0, 5, 10, 19, 28]\n",
        "content_layers = [21]\n",
        "loss_layers = style_layers + content_layers"
      ],
      "metadata": {
        "id": "ipx8jLCpp5UP"
      },
      "execution_count": 12,
      "outputs": []
    },
    {
      "cell_type": "code",
      "source": [
        "loss_fns = [GramMSELoss()] * len(style_layers) + [nn.MSELoss()] * len(content_layers)\n",
        "loss_fns = [loss_fn.to(device) for loss_fn in loss_fns]"
      ],
      "metadata": {
        "id": "8NYxbgZAp-4C"
      },
      "execution_count": 13,
      "outputs": []
    },
    {
      "cell_type": "code",
      "source": [
        "style_weights = [1000/n**2 for n in [64,128,256,512,512]]\n",
        "content_weights = [1]\n",
        "weights = style_weights + content_weights"
      ],
      "metadata": {
        "id": "koXHzGbMqF9R"
      },
      "execution_count": 14,
      "outputs": []
    },
    {
      "cell_type": "code",
      "source": [
        "style_targets = [GramMatrix()(A).detach() for A in vgg(style_image, style_layers)]\n",
        "content_targets = [A.detach() for A in vgg(content_image, content_layers)]\n",
        "targets = style_targets + content_targets"
      ],
      "metadata": {
        "id": "pKjuBkOaqH1G"
      },
      "execution_count": 15,
      "outputs": []
    },
    {
      "cell_type": "code",
      "source": [
        "max_iters = 500\n",
        "optimizer = optim.LBFGS([opt_img])\n",
        "log = Report(max_iters)"
      ],
      "metadata": {
        "id": "SCPgBlcdqdMR"
      },
      "execution_count": 16,
      "outputs": []
    },
    {
      "cell_type": "code",
      "source": [
        "iters = 0\n",
        "while iters < max_iters:\n",
        "    def closure():\n",
        "        global iters\n",
        "        iters += 1\n",
        "        optimizer.zero_grad()\n",
        "        out = vgg(opt_img, loss_layers)\n",
        "        layer_losses = [weights[a] * loss_fns[a](A, targets[a]) for a,A in enumerate(out)]\n",
        "        loss = sum(layer_losses)\n",
        "        loss.backward()\n",
        "        log.record(pos=iters, loss=loss, end='\\r')\n",
        "        return loss\n",
        "    optimizer.step(closure)"
      ],
      "metadata": {
        "colab": {
          "base_uri": "https://localhost:8080/"
        },
        "id": "Hrp9z2AhqfRW",
        "outputId": "da7d68dc-15be-4cab-ccee-f19767d575b8"
      },
      "execution_count": 17,
      "outputs": [
        {
          "output_type": "stream",
          "name": "stdout",
          "text": [
            "EPOCH: 502.000  loss: 9722747.000  (74.27s - -0.30s remaining)"
          ]
        }
      ]
    },
    {
      "cell_type": "code",
      "source": [
        "log.plot(log=True)"
      ],
      "metadata": {
        "colab": {
          "base_uri": "https://localhost:8080/",
          "height": 542
        },
        "id": "pQvH8Dn6qhJ3",
        "outputId": "c3bd8ac1-5630-4a8c-d7d0-d756e5f1f485"
      },
      "execution_count": 18,
      "outputs": [
        {
          "output_type": "display_data",
          "data": {
            "text/plain": [
              "<Figure size 800x600 with 1 Axes>"
            ],
            "image/png": "[encoded data removed]"
          },
          "metadata": {}
        }
      ]
    },
    {
      "cell_type": "code",
      "source": [
        "with torch.no_grad():\n",
        "    out_img = postprocess(opt_img[0]).permute(1,2,0)\n",
        "show(out_img)"
      ],
      "metadata": {
        "colab": {
          "base_uri": "https://localhost:8080/",
          "height": 867
        },
        "id": "2B1mDWZ5qqhd",
        "outputId": "7da8ad89-384d-4674-8a61-477ed3270489"
      },
      "execution_count": 19,
      "outputs": [
        {
          "output_type": "display_data",
          "data": {
            "text/plain": [
              "tensor([[[ 0.5172,  0.8406,  0.8683],\n",
              "         [ 0.0252,  0.2790,  0.7411],\n",
              "         [ 0.1049,  0.6626,  0.8932],\n",
              "         ...,\n",
              "         [ 0.6233,  0.1437,  0.3795],\n",
              "         [ 0.6277,  0.1609,  0.0999],\n",
              "         [ 0.0110, -0.1539, -0.0419]],\n",
              "\n",
              "        [[ 0.9975,  0.5478,  0.2006],\n",
              "         [ 0.7722,  0.0708,  0.1485],\n",
              "         [ 0.5758,  0.4579,  0.4192],\n",
              "         ...,\n",
              "         [ 0.7898, -0.0270,  0.1774],\n",
              "         [ 0.2642, -0.1248, -0.1301],\n",
              "         [ 0.0455, -0.0749, -0.3237]],\n",
              "\n",
              "        [[ 1.0304,  0.3905,  0.3210],\n",
              "         [ 1.0090,  0.0252,  0.1353],\n",
              "         [ 0.7293,  0.2419,  0.4736],\n",
              "         ...,\n",
              "         [ 0.4175, -0.2157,  0.1258],\n",
              "         [-0.0481, -0.0676, -0.0779],\n",
              "         [-0.0122,  0.0342, -0.4710]],\n",
              "\n",
              "        ...,\n",
              "\n",
              "        [[ 1.0133,  1.3679,  0.7909],\n",
              "         [ 0.7459,  0.9592,  0.2975],\n",
              "         [ 0.4263,  0.8907,  0.4449],\n",
              "         ...,\n",
              "         [ 0.3154,  0.2560,  0.2131],\n",
              "         [ 0.2613,  0.2141,  0.1559],\n",
              "         [ 0.2499,  0.1021,  0.1417]],\n",
              "\n",
              "        [[ 1.1773,  1.3917,  0.7932],\n",
              "         [ 0.7765,  0.5472,  0.2002],\n",
              "         [ 0.5432,  0.4914,  0.1383],\n",
              "         ...,\n",
              "         [ 0.2638,  0.2700,  0.2710],\n",
              "         [ 0.1827,  0.2891,  0.2211],\n",
              "         [ 0.1064,  0.1514,  0.2714]],\n",
              "\n",
              "        [[ 0.9836,  1.1722,  0.8886],\n",
              "         [ 0.2632,  0.2619,  0.3461],\n",
              "         [ 0.3681,  0.4420,  0.2637],\n",
              "         ...,\n",
              "         [ 0.4138,  0.2573,  0.3834],\n",
              "         [ 0.3190,  0.3006,  0.2907],\n",
              "         [ 0.0138,  0.0814,  0.2556]]], device='cuda:0')"
            ]
          },
          "metadata": {}
        }
      ]
    },
    {
      "cell_type": "code",
      "source": [],
      "metadata": {
        "id": "WnWMdmEaqssh"
      },
      "execution_count": null,
      "outputs": []
    }
  ]
}