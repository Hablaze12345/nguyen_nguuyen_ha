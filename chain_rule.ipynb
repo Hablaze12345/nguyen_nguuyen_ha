{
  "nbformat": 4,
  "nbformat_minor": 0,
  "metadata": {
    "colab": {
      "provenance": [],
      "gpuType": "T4"
    },
    "kernelspec": {
      "name": "python3",
      "display_name": "Python 3"
    },
    "language_info": {
      "name": "python"
    },
    "accelerator": "GPU"
  },
  "cells": [
    {
      "cell_type": "code",
      "execution_count": 1,
      "metadata": {
        "id": "YcENIy-BP5tL"
      },
      "outputs": [],
      "source": [
        "from copy import deepcopy\n",
        "import numpy as np\n",
        "def line():\n",
        "    print('='*80)\n",
        "def feed_forward(inputs, outputs, weights):\n",
        "    pre_hidden = np.dot(inputs,weights[0])+ weights[1]\n",
        "    hidden = 1/(1+np.exp(-pre_hidden))\n",
        "    out = np.dot(hidden, weights[2]) + weights[3]\n",
        "    mean_squared_error = np.mean(np.square(out - outputs))\n",
        "    return mean_squared_error"
      ]
    },
    {
      "cell_type": "code",
      "source": [
        "def update_weights(inputs, outputs, weights, lr):\n",
        "    original_weights = deepcopy(weights)\n",
        "    temp_weights = deepcopy(weights)\n",
        "    updated_weights = deepcopy(weights)\n",
        "    original_loss = feed_forward(inputs, outputs, original_weights)\n",
        "    for i, layer in enumerate(original_weights):\n",
        "        for index, weight in np.ndenumerate(layer):\n",
        "            temp_weights = deepcopy(weights)\n",
        "            temp_weights[i][index] += 0.0001\n",
        "            _loss_plus = feed_forward(inputs, outputs, temp_weights)\n",
        "            grad = (_loss_plus - original_loss)/(0.0001)\n",
        "            updated_weights[i][index] -= grad*lr\n",
        "    return updated_weights"
      ],
      "metadata": {
        "id": "3ytZqPq-QPs1"
      },
      "execution_count": 2,
      "outputs": []
    },
    {
      "cell_type": "code",
      "source": [
        "x = np.array([[1,1]]); y = np.array([[0]])\n",
        "W = [\n",
        "    np.array([[-0.0053, 0.3793],\n",
        "              [-0.5820, -0.5204],\n",
        "              [-0.2723, 0.1896]], dtype=np.float32).T,\n",
        "    np.array([-0.0140, 0.5607, -0.0628], dtype=np.float32),\n",
        "    np.array([[ 0.1528, -0.1745, -0.1135]], dtype=np.float32).T,\n",
        "    np.array([-0.5516], dtype=np.float32)\n",
        "]\n",
        "line()\n",
        "print('Loss:'.upper())\n",
        "print(feed_forward(x,y,W))\n",
        "line()\n",
        "print('Weights:'.upper())\n",
        "[print(w) for w in W]\n",
        "line()\n",
        "print('Updated Weights:'.upper())\n",
        "for epx in range(1):\n",
        "    updated_weights = update_weights(x,y,W,1)\n",
        "[print(w) for w in updated_weights];"
      ],
      "metadata": {
        "colab": {
          "base_uri": "https://localhost:8080/"
        },
        "id": "JJ7eonaWQcNK",
        "outputId": "269f3adc-665f-4201-abd5-5d54a93d64bb"
      },
      "execution_count": 3,
      "outputs": [
        {
          "output_type": "stream",
          "name": "stdout",
          "text": [
            "================================================================================\n",
            "LOSS:\n",
            "0.33455008989960927\n",
            "================================================================================\n",
            "WEIGHTS:\n",
            "[[-0.0053 -0.582  -0.2723]\n",
            " [ 0.3793 -0.5204  0.1896]]\n",
            "[-0.014   0.5607 -0.0628]\n",
            "[[ 0.1528]\n",
            " [-0.1745]\n",
            " [-0.1135]]\n",
            "[-0.5516]\n",
            "================================================================================\n",
            "UPDATED WEIGHTS:\n",
            "[[ 0.03748801 -0.62894595 -0.30494714]\n",
            " [ 0.42208242 -0.5673459   0.156948  ]]\n",
            "[ 0.02878801  0.51375407 -0.09545201]\n",
            "[[0.8341824 ]\n",
            " [0.25095794]\n",
            " [0.4228859 ]]\n",
            "[0.60529804]\n"
          ]
        }
      ]
    },
    {
      "cell_type": "markdown",
      "source": [
        "## Chain rule\n",
        "Calculate the updated weight value using chain rule\n"
      ],
      "metadata": {
        "id": "LFlUOmyLQj0s"
      }
    },
    {
      "cell_type": "code",
      "source": [
        "pre_hidden = np.dot(x,W[0])+ W[1]\n",
        "hidden = 1/(1+np.exp(-pre_hidden))\n",
        "predicted_value = np.dot(hidden, W[2]) + W[3]"
      ],
      "metadata": {
        "id": "Qht4_c6rQ1wR"
      },
      "execution_count": 4,
      "outputs": []
    },
    {
      "cell_type": "code",
      "source": [
        "tmp = W[0][0][0] - (-2*(0-(predicted_value[0][0]))*(W[2][0][0])*hidden[0,0]*(1-hidden[0,0])*x[0][0])\n",
        "print(tmp, updated_weights[0][0][0])"
      ],
      "metadata": {
        "colab": {
          "base_uri": "https://localhost:8080/"
        },
        "id": "kjVWxrfbQ5J-",
        "outputId": "b9d96fad-36a2-4876-baba-41356cb5240d"
      },
      "execution_count": 5,
      "outputs": [
        {
          "output_type": "stream",
          "name": "stdout",
          "text": [
            "0.03748860333147175 0.037488014\n"
          ]
        }
      ]
    },
    {
      "cell_type": "code",
      "source": [
        "tmp = W[0][0][1] - (-2*(0-(predicted_value[0][0]))*(W[2][1][0])*hidden[0,1]*(1-hidden[0,1])*x[0][0])\n",
        "print(tmp, updated_weights[0][0][1])"
      ],
      "metadata": {
        "colab": {
          "base_uri": "https://localhost:8080/"
        },
        "id": "GqucFXxMQ745",
        "outputId": "3129948d-b019-48c7-a773-2d762e11ad8e"
      },
      "execution_count": 6,
      "outputs": [
        {
          "output_type": "stream",
          "name": "stdout",
          "text": [
            "-0.6289373468565382 -0.62894595\n"
          ]
        }
      ]
    },
    {
      "cell_type": "code",
      "source": [
        "tmp = W[0][0][2] - (-2*(0-(predicted_value[0][0]))*(W[2][2][0])*hidden[0,2]*(1-hidden[0,2])*x[0][0])\n",
        "print(tmp, updated_weights[0][0][0])"
      ],
      "metadata": {
        "colab": {
          "base_uri": "https://localhost:8080/"
        },
        "id": "IsiZBLvcQ-fm",
        "outputId": "ebe376f3-6051-40ca-fbed-f9d06de0fea9"
      },
      "execution_count": 7,
      "outputs": [
        {
          "output_type": "stream",
          "name": "stdout",
          "text": [
            "-0.304951263947996 0.037488014\n"
          ]
        }
      ]
    },
    {
      "cell_type": "code",
      "source": [
        "tmp = W[0][1][0] - (-2*(0-(predicted_value[0][0]))*(W[2][0][0])*hidden[0,0]*(1-hidden[0,0])*x[0][1])\n",
        "print(tmp, updated_weights[0][1][0])"
      ],
      "metadata": {
        "colab": {
          "base_uri": "https://localhost:8080/"
        },
        "id": "KmvcrIySRCyU",
        "outputId": "38f43cf0-632f-4539-ed9d-1c811aecbb47"
      },
      "execution_count": 8,
      "outputs": [
        {
          "output_type": "stream",
          "name": "stdout",
          "text": [
            "0.42208860145914084 0.42208242\n"
          ]
        }
      ]
    },
    {
      "cell_type": "code",
      "source": [
        "tmp = W[0][1][1] - (-2*(0-(predicted_value[0][0]))*(W[2][1][0])*hidden[0,1]*(1-hidden[0,1])*x[0][1])\n",
        "print(tmp, updated_weights[0][1][1])"
      ],
      "metadata": {
        "colab": {
          "base_uri": "https://localhost:8080/"
        },
        "id": "UYG2YubARH7i",
        "outputId": "40964bc7-49b4-40e2-a021-a278ba2c124c"
      },
      "execution_count": 9,
      "outputs": [
        {
          "output_type": "stream",
          "name": "stdout",
          "text": [
            "-0.5673373173880019 -0.5673459\n"
          ]
        }
      ]
    },
    {
      "cell_type": "code",
      "source": [
        "tmp = W[0][1][2] - (-2*(0-(predicted_value[0][0]))*(W[2][2][0])*hidden[0,2]*(1-hidden[0,2])*x[0][1])\n",
        "print(tmp, updated_weights[0][1][2])"
      ],
      "metadata": {
        "colab": {
          "base_uri": "https://localhost:8080/"
        },
        "id": "H_MA-572RMq8",
        "outputId": "5af62b89-e3ba-4748-b082-6ee1e7484875"
      },
      "execution_count": 10,
      "outputs": [
        {
          "output_type": "stream",
          "name": "stdout",
          "text": [
            "0.15694874675699821 0.156948\n"
          ]
        }
      ]
    },
    {
      "cell_type": "code",
      "source": [
        "tmp = W[1][0] - (-2*(0-(predicted_value[0][0]))*hidden[0,0]*(1-hidden[0,0])*W[2][0][0])\n",
        "print(tmp, updated_weights[1][0])"
      ],
      "metadata": {
        "colab": {
          "base_uri": "https://localhost:8080/"
        },
        "id": "p93FoY0mRNw5",
        "outputId": "1cdbd45d-339d-4ade-f953-589c3abc58d1"
      },
      "execution_count": 11,
      "outputs": [
        {
          "output_type": "stream",
          "name": "stdout",
          "text": [
            "0.028788602743620932 0.028788012\n"
          ]
        }
      ]
    },
    {
      "cell_type": "code",
      "source": [
        "tmp = W[1][1] - (-2*(0-(predicted_value[0][0]))*hidden[0,1]*(1-hidden[0,1])*W[2][1][0])\n",
        "print(tmp, updated_weights[1][1])"
      ],
      "metadata": {
        "colab": {
          "base_uri": "https://localhost:8080/"
        },
        "id": "rAsrY46ERTFK",
        "outputId": "d3dff022-e7e8-4d5a-d532-9d8b8a006361"
      },
      "execution_count": 12,
      "outputs": [
        {
          "output_type": "stream",
          "name": "stdout",
          "text": [
            "0.5137626696420274 0.51375407\n"
          ]
        }
      ]
    },
    {
      "cell_type": "code",
      "source": [
        "tmp = W[1][2] - (-2*(0-(predicted_value[0][0]))*hidden[0,2]*(1-hidden[0,2])*W[2][2][0])\n",
        "print(tmp, updated_weights[1][2])"
      ],
      "metadata": {
        "colab": {
          "base_uri": "https://localhost:8080/"
        },
        "id": "_RS2UhPrRUT6",
        "outputId": "bba385ab-0a6d-4ab5-d1f8-48b953fb8e34"
      },
      "execution_count": 13,
      "outputs": [
        {
          "output_type": "stream",
          "name": "stdout",
          "text": [
            "-0.0954512566166247 -0.09545201\n"
          ]
        }
      ]
    },
    {
      "cell_type": "code",
      "source": [
        "tmp = W[2][0][0]-(-2*(0-(predicted_value[0][0]))*hidden[0][0])\n",
        "print(tmp, updated_weights[2][0][0])"
      ],
      "metadata": {
        "colab": {
          "base_uri": "https://localhost:8080/"
        },
        "id": "hQBzfWgWRW6i",
        "outputId": "0811707d-9b88-4798-c58a-296a42f7ac59"
      },
      "execution_count": 14,
      "outputs": [
        {
          "output_type": "stream",
          "name": "stdout",
          "text": [
            "0.8342055621416937 0.8341824\n"
          ]
        }
      ]
    },
    {
      "cell_type": "code",
      "source": [
        "tmp = W[2][1][0]-(-2*(0-(predicted_value[0][0]))*hidden[0][1])\n",
        "print(tmp, updated_weights[2][1][0])"
      ],
      "metadata": {
        "colab": {
          "base_uri": "https://localhost:8080/"
        },
        "id": "63LyZRnpRt0p",
        "outputId": "a4248d14-85ff-41d2-ec4b-a0ed2f5c0fdd"
      },
      "execution_count": 15,
      "outputs": [
        {
          "output_type": "stream",
          "name": "stdout",
          "text": [
            "0.2509642654210383 0.25095794\n"
          ]
        }
      ]
    },
    {
      "cell_type": "code",
      "source": [
        "tmp = W[2][2][0]-(-2*(0-(predicted_value[0][0]))*hidden[0][2])\n",
        "print(tmp, updated_weights[2][2][0])"
      ],
      "metadata": {
        "colab": {
          "base_uri": "https://localhost:8080/"
        },
        "id": "leA5ElWURwdn",
        "outputId": "c799d2e7-bff6-4147-bcbf-261724eb644c"
      },
      "execution_count": 16,
      "outputs": [
        {
          "output_type": "stream",
          "name": "stdout",
          "text": [
            "0.422898309408289 0.4228859\n"
          ]
        }
      ]
    },
    {
      "cell_type": "code",
      "source": [
        "tmp = W[3][0]-(-2*(0-(predicted_value[0][0])))\n",
        "print(tmp, updated_weights[3][0])"
      ],
      "metadata": {
        "colab": {
          "base_uri": "https://localhost:8080/"
        },
        "id": "k0NzAwEURyk4",
        "outputId": "46c52a61-e687-4244-9210-236c39acde9a"
      },
      "execution_count": 17,
      "outputs": [
        {
          "output_type": "stream",
          "name": "stdout",
          "text": [
            "0.6052061234525776 0.60529804\n"
          ]
        }
      ]
    }
  ]
}