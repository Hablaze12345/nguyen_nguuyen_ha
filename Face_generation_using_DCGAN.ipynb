{
  "cells": [
    {
      "cell_type": "code",
      "execution_count": null,
      "metadata": {
        "colab": {
          "base_uri": "https://localhost:8080/"
        },
        "id": "xtc2jbesVYEi",
        "outputId": "e9328a66-6f40-4911-a46d-2d7822f45d4c"
      },
      "outputs": [
        {
          "name": "stdout",
          "output_type": "stream",
          "text": [
            "--2023-07-26 08:36:11--  https://www.dropbox.com/s/rbajpdlh7efkdo1/male_female_face_images.zip\n",
            "Resolving www.dropbox.com (www.dropbox.com)... 162.125.3.18, 2620:100:6018:18::a27d:312\n",
            "Connecting to www.dropbox.com (www.dropbox.com)|162.125.3.18|:443... connected.\n",
            "HTTP request sent, awaiting response... 302 Found\n",
            "Location: /s/raw/rbajpdlh7efkdo1/male_female_face_images.zip [following]\n",
            "--2023-07-26 08:36:11--  https://www.dropbox.com/s/raw/rbajpdlh7efkdo1/male_female_face_images.zip\n",
            "Reusing existing connection to www.dropbox.com:443.\n",
            "HTTP request sent, awaiting response... 302 Found\n",
            "Location: https://ucf23e2322b094c1eefb87efeea2.dl.dropboxusercontent.com/cd/0/inline/CAlTGOvZ_ExlWHGKz6sJmUIlwI_Jp_Bz1OmE01fjtB_6v1wkxFmbBF1zBtDN3Nxq7g5qjN_AWyjnpdMiwrnvKqq792-KkqboMOl4Rva-eodFykx6jjFcyFI9xz54Z5YmoWey-DwurVLWvjFKtNThD76A/file# [following]\n",
            "--2023-07-26 08:36:12--  https://ucf23e2322b094c1eefb87efeea2.dl.dropboxusercontent.com/cd/0/inline/CAlTGOvZ_ExlWHGKz6sJmUIlwI_Jp_Bz1OmE01fjtB_6v1wkxFmbBF1zBtDN3Nxq7g5qjN_AWyjnpdMiwrnvKqq792-KkqboMOl4Rva-eodFykx6jjFcyFI9xz54Z5YmoWey-DwurVLWvjFKtNThD76A/file\n",
            "Resolving ucf23e2322b094c1eefb87efeea2.dl.dropboxusercontent.com (ucf23e2322b094c1eefb87efeea2.dl.dropboxusercontent.com)... 162.125.5.15, 2620:100:6018:15::a27d:30f\n",
            "Connecting to ucf23e2322b094c1eefb87efeea2.dl.dropboxusercontent.com (ucf23e2322b094c1eefb87efeea2.dl.dropboxusercontent.com)|162.125.5.15|:443... connected.\n",
            "HTTP request sent, awaiting response... 302 Found\n",
            "Location: /cd/0/inline2/CAkRNWtKzqmQVTiF3rJh-0rDVWreFGyPmUc8Ccld4zfRnsX854ms9-3RipL3wXNaqSEvdKjs_nqtIW9gkipP3w_WXGfCoMPQevLTxIUF5BxGs2gRa8SbdOh7Z0Moglsek_IJvJa5nGh6DQOUWHK0L3NZVVpgjKRfSvf3iD757jNeCQuIl2JVMnJ0TMZ_IqcQ1Sw1slJ4z4AfE5XcXYE-fWuTTFJ0FSS2jutN_ZBwsl1BAUp3rw5vXRg39Bir9-iessTWIRP4cKswqD6tY1lUr17aMJn7x2bZ0wHKHfam3ADEq0Au1AchrDcZTmlIrNuCt-XhEf7o_0A0Jyxqg0kTZyEvEgb3Ga2dTfmuE8S9zKqc_Xix3bQPqD-k6NPUptqKHI0/file [following]\n",
            "--2023-07-26 08:36:13--  https://ucf23e2322b094c1eefb87efeea2.dl.dropboxusercontent.com/cd/0/inline2/CAkRNWtKzqmQVTiF3rJh-0rDVWreFGyPmUc8Ccld4zfRnsX854ms9-3RipL3wXNaqSEvdKjs_nqtIW9gkipP3w_WXGfCoMPQevLTxIUF5BxGs2gRa8SbdOh7Z0Moglsek_IJvJa5nGh6DQOUWHK0L3NZVVpgjKRfSvf3iD757jNeCQuIl2JVMnJ0TMZ_IqcQ1Sw1slJ4z4AfE5XcXYE-fWuTTFJ0FSS2jutN_ZBwsl1BAUp3rw5vXRg39Bir9-iessTWIRP4cKswqD6tY1lUr17aMJn7x2bZ0wHKHfam3ADEq0Au1AchrDcZTmlIrNuCt-XhEf7o_0A0Jyxqg0kTZyEvEgb3Ga2dTfmuE8S9zKqc_Xix3bQPqD-k6NPUptqKHI0/file\n",
            "Reusing existing connection to ucf23e2322b094c1eefb87efeea2.dl.dropboxusercontent.com:443.\n",
            "HTTP request sent, awaiting response... 200 OK\n",
            "Length: 267204277 (255M) [application/zip]\n",
            "Saving to: ‘male_female_face_images.zip’\n",
            "\n",
            "male_female_face_im 100%[===================>] 254.83M  51.1MB/s    in 5.4s    \n",
            "\n",
            "2023-07-26 08:36:19 (46.9 MB/s) - ‘male_female_face_images.zip’ saved [267204277/267204277]\n",
            "\n"
          ]
        }
      ],
      "source": [
        "!wget https://www.dropbox.com/s/rbajpdlh7efkdo1/male_female_face_images.zip\n",
        "!unzip -q male_female_face_images.zip"
      ]
    },
    {
      "cell_type": "code",
      "execution_count": null,
      "metadata": {
        "colab": {
          "base_uri": "https://localhost:8080/"
        },
        "id": "lW48k4eJV2dJ",
        "outputId": "7561ccc3-5e06-4244-c027-b4e6aa81e962"
      },
      "outputs": [
        {
          "name": "stdout",
          "output_type": "stream",
          "text": [
            "\u001b[?25l     \u001b[90m━━━━━━━━━━━━━━━━━━━━━━━━━━━━━━━━━━━━━━━━\u001b[0m \u001b[32m0.0/61.1 kB\u001b[0m \u001b[31m?\u001b[0m eta \u001b[36m-:--:--\u001b[0m\r\u001b[2K     \u001b[90m━━━━━━━━━━━━━━━━━━━━━━━━━━━━━━━━━━━━━━━━\u001b[0m \u001b[32m61.1/61.1 kB\u001b[0m \u001b[31m1.7 MB/s\u001b[0m eta \u001b[36m0:00:00\u001b[0m\n",
            "\u001b[?25h\u001b[?25l     \u001b[90m━━━━━━━━━━━━━━━━━━━━━━━━━━━━━━━━━━━━━━━━\u001b[0m \u001b[32m0.0/115.3 kB\u001b[0m \u001b[31m?\u001b[0m eta \u001b[36m-:--:--\u001b[0m\r\u001b[2K     \u001b[90m━━━━━━━━━━━━━━━━━━━━━━━━━━━━━━━━━━━━━━━\u001b[0m \u001b[32m115.3/115.3 kB\u001b[0m \u001b[31m6.0 MB/s\u001b[0m eta \u001b[36m0:00:00\u001b[0m\n",
            "\u001b[2K     \u001b[90m━━━━━━━━━━━━━━━━━━━━━━━━━━━━━━━━━━━━━━━━\u001b[0m \u001b[32m60.0/60.0 kB\u001b[0m \u001b[31m7.5 MB/s\u001b[0m eta \u001b[36m0:00:00\u001b[0m\n",
            "\u001b[2K     \u001b[90m━━━━━━━━━━━━━━━━━━━━━━━━━━━━━━━━━━━━━━━━\u001b[0m \u001b[32m78.6/78.6 kB\u001b[0m \u001b[31m10.1 MB/s\u001b[0m eta \u001b[36m0:00:00\u001b[0m\n",
            "\u001b[?25h  Preparing metadata (setup.py) ... \u001b[?25l\u001b[?25hdone\n",
            "\u001b[2K     \u001b[90m━━━━━━━━━━━━━━━━━━━━━━━━━━━━━━━━━━━━━━\u001b[0m \u001b[32m202.8/202.8 kB\u001b[0m \u001b[31m13.1 MB/s\u001b[0m eta \u001b[36m0:00:00\u001b[0m\n",
            "\u001b[2K     \u001b[90m━━━━━━━━━━━━━━━━━━━━━━━━━━━━━━━━━━━━━━━━\u001b[0m \u001b[32m14.1/14.1 MB\u001b[0m \u001b[31m15.8 MB/s\u001b[0m eta \u001b[36m0:00:00\u001b[0m\n",
            "\u001b[2K     \u001b[90m━━━━━━━━━━━━━━━━━━━━━━━━━━━━━━━━━━━━━━━━\u001b[0m \u001b[32m1.6/1.6 MB\u001b[0m \u001b[31m84.7 MB/s\u001b[0m eta \u001b[36m0:00:00\u001b[0m\n",
            "\u001b[2K     \u001b[90m━━━━━━━━━━━━━━━━━━━━━━━━━━━━━━━━━━━━━━━━\u001b[0m \u001b[32m98.8/98.8 kB\u001b[0m \u001b[31m12.1 MB/s\u001b[0m eta \u001b[36m0:00:00\u001b[0m\n",
            "\u001b[2K     \u001b[90m━━━━━━━━━━━━━━━━━━━━━━━━━━━━━━━━━━━━━━━━\u001b[0m \u001b[32m3.0/3.0 MB\u001b[0m \u001b[31m71.7 MB/s\u001b[0m eta \u001b[36m0:00:00\u001b[0m\n",
            "\u001b[2K     \u001b[90m━━━━━━━━━━━━━━━━━━━━━━━━━━━━━━━━━━━━━━\u001b[0m \u001b[32m172.5/172.5 kB\u001b[0m \u001b[31m20.8 MB/s\u001b[0m eta \u001b[36m0:00:00\u001b[0m\n",
            "\u001b[2K     \u001b[90m━━━━━━━━━━━━━━━━━━━━━━━━━━━━━━━━━━━━━━━━\u001b[0m \u001b[32m3.1/3.1 MB\u001b[0m \u001b[31m112.6 MB/s\u001b[0m eta \u001b[36m0:00:00\u001b[0m\n",
            "\u001b[2K     \u001b[90m━━━━━━━━━━━━━━━━━━━━━━━━━━━━━━━━━━━━━━\u001b[0m \u001b[32m468.9/468.9 kB\u001b[0m \u001b[31m38.7 MB/s\u001b[0m eta \u001b[36m0:00:00\u001b[0m\n",
            "\u001b[?25h  Building wheel for typing (setup.py) ... \u001b[?25l\u001b[?25hdone\n"
          ]
        }
      ],
      "source": [
        "!pip install -q --upgrade torch_snippets\n",
        "from torch_snippets import *\n",
        "import torchvision\n",
        "from torchvision import transforms\n",
        "import torchvision.utils as vutils\n",
        "import cv2, numpy as np, pandas as pd\n",
        "device = \"cuda\" if torch.cuda.is_available() else \"cpu\""
      ]
    },
    {
      "cell_type": "code",
      "execution_count": null,
      "metadata": {
        "id": "-isM0IMaV5tB"
      },
      "outputs": [],
      "source": [
        "face_cascade = cv2.CascadeClassifier(cv2.data.haarcascades + 'haarcascade_frontalface_default.xml')"
      ]
    },
    {
      "cell_type": "code",
      "execution_count": null,
      "metadata": {
        "id": "yoThRkqEV7wY"
      },
      "outputs": [],
      "source": [
        "!mkdir cropped_faces\n",
        "images = Glob('/content/females/*.jpg')+Glob('/content/males/*.jpg')\n",
        "for i in range(len(images)):\n",
        "    img = read(images[i],1)\n",
        "    gray = cv2.cvtColor(img, cv2.COLOR_BGR2GRAY)\n",
        "    faces = face_cascade.detectMultiScale(gray, 1.3, 5)\n",
        "    for (x,y,w,h) in faces:\n",
        "        img2 = img[y:(y+h),x:(x+w),:]\n",
        "    cv2.imwrite('cropped_faces/'+str(i)+'.jpg',cv2.cvtColor(img2, cv2.COLOR_RGB2BGR))"
      ]
    },
    {
      "cell_type": "code",
      "execution_count": null,
      "metadata": {
        "id": "dPP8tjKLV-Ql"
      },
      "outputs": [],
      "source": [
        "transform=transforms.Compose([\n",
        "                               transforms.Resize(64),\n",
        "                               transforms.CenterCrop(64),\n",
        "                               transforms.ToTensor(),\n",
        "                               transforms.Normalize((0.5, 0.5, 0.5), (0.5, 0.5, 0.5))])"
      ]
    },
    {
      "cell_type": "code",
      "execution_count": null,
      "metadata": {
        "id": "7PkkrQNbWAoS"
      },
      "outputs": [],
      "source": [
        "class Faces(Dataset):\n",
        "    def __init__(self, folder):\n",
        "        super().__init__()\n",
        "        self.folder = folder\n",
        "        self.images = sorted(Glob(folder))\n",
        "    def __len__(self):\n",
        "        return len(self.images)\n",
        "    def __getitem__(self, ix):\n",
        "        image_path = self.images[ix]\n",
        "        image = Image.open(image_path)\n",
        "        image = transform(image)\n",
        "        return image"
      ]
    },
    {
      "cell_type": "code",
      "execution_count": null,
      "metadata": {
        "id": "S_4f0iOeWDJP"
      },
      "outputs": [],
      "source": [
        "ds = Faces(folder='cropped_faces/')"
      ]
    },
    {
      "cell_type": "code",
      "execution_count": null,
      "metadata": {
        "colab": {
          "base_uri": "https://localhost:8080/"
        },
        "id": "YuItdM1qWE4D",
        "outputId": "188a7f1c-4ab2-42d4-e728-e0c70b74eeb5"
      },
      "outputs": [
        {
          "name": "stderr",
          "output_type": "stream",
          "text": [
            "/usr/local/lib/python3.10/dist-packages/torch/utils/data/dataloader.py:560: UserWarning: This DataLoader will create 8 worker processes in total. Our suggested max number of worker in current system is 2, which is smaller than what this DataLoader is going to create. Please be aware that excessive worker creation might get DataLoader running slow or even freeze, lower the worker number to avoid potential slowness/freeze if necessary.\n",
            "  warnings.warn(_create_warning_msg(\n"
          ]
        }
      ],
      "source": [
        "dataloader = DataLoader(ds, batch_size=64, shuffle=True, num_workers=8)"
      ]
    },
    {
      "cell_type": "code",
      "execution_count": null,
      "metadata": {
        "id": "UwfmxWpyWGrQ"
      },
      "outputs": [],
      "source": [
        "def weights_init(m):\n",
        "    classname = m.__class__.__name__\n",
        "    if classname.find('Conv') != -1:\n",
        "        nn.init.normal_(m.weight.data, 0.0, 0.02)\n",
        "    elif classname.find('BatchNorm') != -1:\n",
        "        nn.init.normal_(m.weight.data, 1.0, 0.02)\n",
        "        nn.init.constant_(m.bias.data, 0)"
      ]
    },
    {
      "cell_type": "code",
      "execution_count": null,
      "metadata": {
        "id": "9tr6jjjEWITF"
      },
      "outputs": [],
      "source": [
        "class Discriminator(nn.Module):\n",
        "    def __init__(self):\n",
        "        super(Discriminator, self).__init__()\n",
        "        self.model = nn.Sequential(\n",
        "            nn.Conv2d(3,64,4,2,1,bias=False),\n",
        "            nn.LeakyReLU(0.2,inplace=True),\n",
        "            nn.Conv2d(64,64*2,4,2,1,bias=False),\n",
        "            nn.BatchNorm2d(64*2),\n",
        "            nn.LeakyReLU(0.2,inplace=True),\n",
        "            nn.Conv2d(64*2,64*4,4,2,1,bias=False),\n",
        "            nn.BatchNorm2d(64*4),\n",
        "            nn.LeakyReLU(0.2,inplace=True),\n",
        "            nn.Conv2d(64*4,64*8,4,2,1,bias=False),\n",
        "            nn.BatchNorm2d(64*8),\n",
        "            nn.LeakyReLU(0.2,inplace=True),\n",
        "            nn.Conv2d(64*8,1,4,1,0,bias=False),\n",
        "            nn.Sigmoid()\n",
        "        )\n",
        "        self.apply(weights_init)\n",
        "    def forward(self, input): return self.model(input)"
      ]
    },
    {
      "cell_type": "code",
      "execution_count": null,
      "metadata": {
        "colab": {
          "base_uri": "https://localhost:8080/"
        },
        "id": "cpvXerv_WKCe",
        "outputId": "b2c45a8a-fb21-4219-ff84-92e359f46c87"
      },
      "outputs": [
        {
          "name": "stdout",
          "output_type": "stream",
          "text": [
            "Collecting torch_summary\n",
            "  Downloading torch_summary-1.4.5-py3-none-any.whl (16 kB)\n",
            "Installing collected packages: torch_summary\n",
            "Successfully installed torch_summary-1.4.5\n",
            "==========================================================================================\n",
            "Layer (type:depth-idx)                   Output Shape              Param #\n",
            "==========================================================================================\n",
            "├─Sequential: 1-1                        [-1, 1, 1, 1]             --\n",
            "|    └─Conv2d: 2-1                       [-1, 64, 32, 32]          3,072\n",
            "|    └─LeakyReLU: 2-2                    [-1, 64, 32, 32]          --\n",
            "|    └─Conv2d: 2-3                       [-1, 128, 16, 16]         131,072\n",
            "|    └─BatchNorm2d: 2-4                  [-1, 128, 16, 16]         256\n",
            "|    └─LeakyReLU: 2-5                    [-1, 128, 16, 16]         --\n",
            "|    └─Conv2d: 2-6                       [-1, 256, 8, 8]           524,288\n",
            "|    └─BatchNorm2d: 2-7                  [-1, 256, 8, 8]           512\n",
            "|    └─LeakyReLU: 2-8                    [-1, 256, 8, 8]           --\n",
            "|    └─Conv2d: 2-9                       [-1, 512, 4, 4]           2,097,152\n",
            "|    └─BatchNorm2d: 2-10                 [-1, 512, 4, 4]           1,024\n",
            "|    └─LeakyReLU: 2-11                   [-1, 512, 4, 4]           --\n",
            "|    └─Conv2d: 2-12                      [-1, 1, 1, 1]             8,192\n",
            "|    └─Sigmoid: 2-13                     [-1, 1, 1, 1]             --\n",
            "==========================================================================================\n",
            "Total params: 2,765,568\n",
            "Trainable params: 2,765,568\n",
            "Non-trainable params: 0\n",
            "Total mult-adds (M): 106.58\n",
            "==========================================================================================\n",
            "Input size (MB): 0.05\n",
            "Forward/backward pass size (MB): 1.38\n",
            "Params size (MB): 10.55\n",
            "Estimated Total Size (MB): 11.97\n",
            "==========================================================================================\n"
          ]
        }
      ],
      "source": [
        "!pip install torch_summary\n",
        "from torchsummary import summary\n",
        "discriminator = Discriminator().to(device)\n",
        "summary(discriminator,torch.zeros(1,3,64,64));"
      ]
    },
    {
      "cell_type": "code",
      "execution_count": null,
      "metadata": {
        "id": "o2o5VyO2WM2i"
      },
      "outputs": [],
      "source": [
        "class Generator(nn.Module):\n",
        "    def __init__(self):\n",
        "        super(Generator,self).__init__()\n",
        "        self.model = nn.Sequential(\n",
        "            nn.ConvTranspose2d(100,64*8,4,1,0,bias=False,),\n",
        "            nn.BatchNorm2d(64*8),\n",
        "            nn.ReLU(True),\n",
        "            nn.ConvTranspose2d(64*8,64*4,4,2,1,bias=False),\n",
        "            nn.BatchNorm2d(64*4),\n",
        "            nn.ReLU(True),\n",
        "            nn.ConvTranspose2d( 64*4,64*2,4,2,1,bias=False),\n",
        "            nn.BatchNorm2d(64*2),\n",
        "            nn.ReLU(True),\n",
        "            nn.ConvTranspose2d( 64*2,64,4,2,1,bias=False),\n",
        "            nn.BatchNorm2d(64),\n",
        "            nn.ReLU(True),\n",
        "            nn.ConvTranspose2d( 64,3,4,2,1,bias=False),\n",
        "            nn.Tanh()\n",
        "        )\n",
        "        self.apply(weights_init)\n",
        "    def forward(self,input): return self.model(input)"
      ]
    },
    {
      "cell_type": "code",
      "execution_count": null,
      "metadata": {
        "colab": {
          "base_uri": "https://localhost:8080/"
        },
        "id": "V0ydk-8pWPkC",
        "outputId": "05652f73-f21d-424f-9ee2-02d3eee242a3"
      },
      "outputs": [
        {
          "name": "stdout",
          "output_type": "stream",
          "text": [
            "==========================================================================================\n",
            "Layer (type:depth-idx)                   Output Shape              Param #\n",
            "==========================================================================================\n",
            "├─Sequential: 1-1                        [-1, 3, 64, 64]           --\n",
            "|    └─ConvTranspose2d: 2-1              [-1, 512, 4, 4]           819,200\n",
            "|    └─BatchNorm2d: 2-2                  [-1, 512, 4, 4]           1,024\n",
            "|    └─ReLU: 2-3                         [-1, 512, 4, 4]           --\n",
            "|    └─ConvTranspose2d: 2-4              [-1, 256, 8, 8]           2,097,152\n",
            "|    └─BatchNorm2d: 2-5                  [-1, 256, 8, 8]           512\n",
            "|    └─ReLU: 2-6                         [-1, 256, 8, 8]           --\n",
            "|    └─ConvTranspose2d: 2-7              [-1, 128, 16, 16]         524,288\n",
            "|    └─BatchNorm2d: 2-8                  [-1, 128, 16, 16]         256\n",
            "|    └─ReLU: 2-9                         [-1, 128, 16, 16]         --\n",
            "|    └─ConvTranspose2d: 2-10             [-1, 64, 32, 32]          131,072\n",
            "|    └─BatchNorm2d: 2-11                 [-1, 64, 32, 32]          128\n",
            "|    └─ReLU: 2-12                        [-1, 64, 32, 32]          --\n",
            "|    └─ConvTranspose2d: 2-13             [-1, 3, 64, 64]           3,072\n",
            "|    └─Tanh: 2-14                        [-1, 3, 64, 64]           --\n",
            "==========================================================================================\n",
            "Total params: 3,576,704\n",
            "Trainable params: 3,576,704\n",
            "Non-trainable params: 0\n",
            "Total mult-adds (M): 431.92\n",
            "==========================================================================================\n",
            "Input size (MB): 0.00\n",
            "Forward/backward pass size (MB): 1.97\n",
            "Params size (MB): 13.64\n",
            "Estimated Total Size (MB): 15.61\n",
            "==========================================================================================\n"
          ]
        },
        {
          "data": {
            "text/plain": [
              "==========================================================================================\n",
              "Layer (type:depth-idx)                   Output Shape              Param #\n",
              "==========================================================================================\n",
              "├─Sequential: 1-1                        [-1, 3, 64, 64]           --\n",
              "|    └─ConvTranspose2d: 2-1              [-1, 512, 4, 4]           819,200\n",
              "|    └─BatchNorm2d: 2-2                  [-1, 512, 4, 4]           1,024\n",
              "|    └─ReLU: 2-3                         [-1, 512, 4, 4]           --\n",
              "|    └─ConvTranspose2d: 2-4              [-1, 256, 8, 8]           2,097,152\n",
              "|    └─BatchNorm2d: 2-5                  [-1, 256, 8, 8]           512\n",
              "|    └─ReLU: 2-6                         [-1, 256, 8, 8]           --\n",
              "|    └─ConvTranspose2d: 2-7              [-1, 128, 16, 16]         524,288\n",
              "|    └─BatchNorm2d: 2-8                  [-1, 128, 16, 16]         256\n",
              "|    └─ReLU: 2-9                         [-1, 128, 16, 16]         --\n",
              "|    └─ConvTranspose2d: 2-10             [-1, 64, 32, 32]          131,072\n",
              "|    └─BatchNorm2d: 2-11                 [-1, 64, 32, 32]          128\n",
              "|    └─ReLU: 2-12                        [-1, 64, 32, 32]          --\n",
              "|    └─ConvTranspose2d: 2-13             [-1, 3, 64, 64]           3,072\n",
              "|    └─Tanh: 2-14                        [-1, 3, 64, 64]           --\n",
              "==========================================================================================\n",
              "Total params: 3,576,704\n",
              "Trainable params: 3,576,704\n",
              "Non-trainable params: 0\n",
              "Total mult-adds (M): 431.92\n",
              "==========================================================================================\n",
              "Input size (MB): 0.00\n",
              "Forward/backward pass size (MB): 1.97\n",
              "Params size (MB): 13.64\n",
              "Estimated Total Size (MB): 15.61\n",
              "=========================================================================================="
            ]
          },
          "execution_count": 13,
          "metadata": {},
          "output_type": "execute_result"
        }
      ],
      "source": [
        "generator = Generator().to(device)\n",
        "summary(generator,torch.zeros(1,100,1,1))"
      ]
    },
    {
      "cell_type": "code",
      "execution_count": null,
      "metadata": {
        "id": "ePvWMexBWSKQ"
      },
      "outputs": [],
      "source": [
        "def discriminator_train_step(real_data, fake_data):\n",
        "    d_optimizer.zero_grad()\n",
        "    prediction_real = discriminator(real_data)\n",
        "    error_real = loss(prediction_real.squeeze(), torch.ones(len(real_data)).to(device))\n",
        "    error_real.backward()\n",
        "    prediction_fake = discriminator(fake_data)\n",
        "    error_fake = loss(prediction_fake.squeeze(), torch.zeros(len(fake_data)).to(device))\n",
        "    error_fake.backward()\n",
        "    d_optimizer.step()\n",
        "    return error_real + error_fake\n",
        "\n",
        "def generator_train_step(fake_data):\n",
        "    g_optimizer.zero_grad()\n",
        "    prediction = discriminator(fake_data)\n",
        "    error = loss(prediction.squeeze(), torch.ones(len(real_data)).to(device))\n",
        "    error.backward()\n",
        "    g_optimizer.step()\n",
        "    return error"
      ]
    },
    {
      "cell_type": "code",
      "execution_count": null,
      "metadata": {
        "id": "IdhLabdkWVGs"
      },
      "outputs": [],
      "source": [
        "discriminator = Discriminator().to(device)\n",
        "generator = Generator().to(device)\n",
        "loss = nn.BCELoss()\n",
        "d_optimizer = optim.Adam(discriminator.parameters(), lr=0.0002, betas=(0.5, 0.999))\n",
        "g_optimizer = optim.Adam(generator.parameters(), lr=0.0002, betas=(0.5, 0.999))"
      ]
    },
    {
      "cell_type": "code",
      "execution_count": null,
      "metadata": {
        "colab": {
          "background_save": true,
          "base_uri": "https://localhost:8080/"
        },
        "id": "i_ij_4hHWZ06",
        "outputId": "02db94d3-46ba-428f-d330-4f023502c0f2"
      },
      "outputs": [
        {
          "name": "stdout",
          "output_type": "stream",
          "text": [
            "EPOCH: 1.000  g_loss: 9.459  d_loss: 0.647  (46.21s - 1109.00s remaining)\n",
            "EPOCH: 2.000  g_loss: 5.807  d_loss: 0.595  (90.30s - 1038.51s remaining)\n",
            "EPOCH: 3.000  g_loss: 4.839  d_loss: 0.528  (133.18s - 976.62s remaining)\n",
            "EPOCH: 4.000  g_loss: 4.045  d_loss: 0.574  (174.88s - 918.14s remaining)\n",
            "EPOCH: 5.000  g_loss: 3.654  d_loss: 0.550  (216.74s - 866.97s remaining)\n",
            "EPOCH: 6.000  g_loss: 3.480  d_loss: 0.596  (258.23s - 817.74s remaining)\n",
            "EPOCH: 7.000  g_loss: 3.200  d_loss: 0.656  (299.79s - 770.90s remaining)\n",
            "EPOCH: 8.000  g_loss: 3.060  d_loss: 0.638  (342.76s - 728.36s remaining)\n",
            "EPOCH: 9.000  g_loss: 2.960  d_loss: 0.627  (385.77s - 685.81s remaining)\n",
            "EPOCH: 10.000  g_loss: 2.978  d_loss: 0.650  (428.28s - 642.42s remaining)\n",
            "EPOCH: 11.000  g_loss: 2.937  d_loss: 0.630  (470.84s - 599.25s remaining)\n",
            "EPOCH: 12.000  g_loss: 2.876  d_loss: 0.623  (513.74s - 556.55s remaining)\n",
            "EPOCH: 13.000  g_loss: 2.896  d_loss: 0.563  (556.61s - 513.79s remaining)\n",
            "EPOCH: 14.000  g_loss: 2.940  d_loss: 0.613  (598.53s - 470.28s remaining)\n",
            "EPOCH: 15.000  g_loss: 2.951  d_loss: 0.517  (639.63s - 426.42s remaining)\n",
            "EPOCH: 16.000  g_loss: 3.021  d_loss: 0.592  (681.64s - 383.42s remaining)\n",
            "EPOCH: 17.000  g_loss: 3.061  d_loss: 0.507  (723.24s - 340.35s remaining)\n",
            "EPOCH: 18.000  g_loss: 3.097  d_loss: 0.549  (765.15s - 297.56s remaining)\n",
            "EPOCH: 19.000  g_loss: 3.100  d_loss: 0.428  (807.02s - 254.85s remaining)\n",
            "EPOCH: 20.000  g_loss: 3.110  d_loss: 0.542  (848.80s - 212.20s remaining)\n",
            "EPOCH: 21.000  g_loss: 3.205  d_loss: 0.422  (890.31s - 169.58s remaining)\n",
            "EPOCH: 22.000  g_loss: 3.163  d_loss: 0.567  (931.89s - 127.08s remaining)\n",
            "EPOCH: 23.000  g_loss: 3.229  d_loss: 0.468  (973.36s - 84.64s remaining)\n",
            "EPOCH: 24.000  g_loss: 3.289  d_loss: 0.439  (1014.50s - 42.27s remaining)\n",
            "EPOCH: 25.000  g_loss: 3.377  d_loss: 0.410  (1055.22s - 0.00s remaining)\n"
          ]
        },
        {
          "name": "stderr",
          "output_type": "stream",
          "text": [
            "100%|██████████| 126/126 [00:01<00:00, 112.45it/s]\n"
          ]
        },
        {
          "data": {
            "image/png": "[encoded data removed]",
            "text/plain": [
              "<Figure size 800x600 with 1 Axes>"
            ]
          },
          "metadata": {},
          "output_type": "display_data"
        }
      ],
      "source": [
        "log = Report(25)\n",
        "for epoch in range(25):\n",
        "    N = len(dataloader)\n",
        "    for i, images in enumerate(dataloader):\n",
        "        real_data = images.to(device)\n",
        "        fake_data = generator(torch.randn(len(real_data), 100, 1, 1).to(device)).to(device)\n",
        "        fake_data = fake_data.detach()\n",
        "        d_loss = discriminator_train_step(real_data, fake_data)\n",
        "        fake_data = generator(torch.randn(len(real_data), 100, 1, 1).to(device)).to(device)\n",
        "        g_loss = generator_train_step(fake_data)\n",
        "        log.record(epoch+(1+i)/N, d_loss=d_loss.item(), g_loss=g_loss.item(), end='\\r')\n",
        "    log.report_avgs(epoch+1)\n",
        "log.plot_epochs(['d_loss','g_loss'])"
      ]
    },
    {
      "cell_type": "code",
      "execution_count": null,
      "metadata": {
        "colab": {
          "background_save": true
        },
        "id": "NcbA2s4KWac6",
        "outputId": "ba7224be-c7f3-40e3-bc45-0b93f483b012"
      },
      "outputs": [
        {
          "data": {
            "text/plain": [
              "tensor([[[0.0000, 0.0000, 0.0000],\n",
              "         [0.0000, 0.0000, 0.0000],\n",
              "         [0.0000, 0.0000, 0.0000],\n",
              "         ...,\n",
              "         [0.0000, 0.0000, 0.0000],\n",
              "         [0.0000, 0.0000, 0.0000],\n",
              "         [0.0000, 0.0000, 0.0000]],\n",
              "\n",
              "        [[0.0000, 0.0000, 0.0000],\n",
              "         [0.0000, 0.0000, 0.0000],\n",
              "         [0.0000, 0.0000, 0.0000],\n",
              "         ...,\n",
              "         [0.0000, 0.0000, 0.0000],\n",
              "         [0.0000, 0.0000, 0.0000],\n",
              "         [0.0000, 0.0000, 0.0000]],\n",
              "\n",
              "        [[0.0000, 0.0000, 0.0000],\n",
              "         [0.0000, 0.0000, 0.0000],\n",
              "         [0.7845, 0.5805, 0.4381],\n",
              "         ...,\n",
              "         [0.2631, 0.3086, 0.3951],\n",
              "         [0.0000, 0.0000, 0.0000],\n",
              "         [0.0000, 0.0000, 0.0000]],\n",
              "\n",
              "        ...,\n",
              "\n",
              "        [[0.0000, 0.0000, 0.0000],\n",
              "         [0.0000, 0.0000, 0.0000],\n",
              "         [0.7079, 0.5071, 0.4065],\n",
              "         ...,\n",
              "         [0.1626, 0.1016, 0.0808],\n",
              "         [0.0000, 0.0000, 0.0000],\n",
              "         [0.0000, 0.0000, 0.0000]],\n",
              "\n",
              "        [[0.0000, 0.0000, 0.0000],\n",
              "         [0.0000, 0.0000, 0.0000],\n",
              "         [0.0000, 0.0000, 0.0000],\n",
              "         ...,\n",
              "         [0.0000, 0.0000, 0.0000],\n",
              "         [0.0000, 0.0000, 0.0000],\n",
              "         [0.0000, 0.0000, 0.0000]],\n",
              "\n",
              "        [[0.0000, 0.0000, 0.0000],\n",
              "         [0.0000, 0.0000, 0.0000],\n",
              "         [0.0000, 0.0000, 0.0000],\n",
              "         ...,\n",
              "         [0.0000, 0.0000, 0.0000],\n",
              "         [0.0000, 0.0000, 0.0000],\n",
              "         [0.0000, 0.0000, 0.0000]]])"
            ]
          },
          "metadata": {},
          "output_type": "display_data"
        }
      ],
      "source": [
        "generator.eval()\n",
        "noise = torch.randn(64, 100, 1, 1, device=device)\n",
        "sample_images = generator(noise).detach().cpu()\n",
        "grid = vutils.make_grid(sample_images, nrow=8, normalize=True)\n",
        "show(grid.cpu().detach().permute(1,2,0), sz=10, title='Generated images')"
      ]
    }
  ],
  "metadata": {
    "accelerator": "GPU",
    "colab": {
      "provenance": []
    },
    "kernelspec": {
      "display_name": "Python 3",
      "name": "python3"
    },
    "language_info": {
      "name": "python"
    }
  },
  "nbformat": 4,
  "nbformat_minor": 0
}