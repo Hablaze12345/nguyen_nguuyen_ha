{
  "nbformat": 4,
  "nbformat_minor": 0,
  "metadata": {
    "colab": {
      "provenance": [],
      "gpuType": "T4"
    },
    "kernelspec": {
      "name": "python3",
      "display_name": "Python 3"
    },
    "language_info": {
      "name": "python"
    },
    "accelerator": "GPU"
  },
  "cells": [
    {
      "cell_type": "code",
      "execution_count": 1,
      "metadata": {
        "colab": {
          "base_uri": "https://localhost:8080/"
        },
        "id": "Cyh3ZHsaEdX7",
        "outputId": "dd70e821-6b83-43db-bfb5-009cd889efa1"
      },
      "outputs": [
        {
          "output_type": "stream",
          "name": "stdout",
          "text": [
            "tensor([[ 2., -1.],\n",
            "        [ 1.,  1.]], requires_grad=True)\n"
          ]
        }
      ],
      "source": [
        "import numpy as np\n",
        "import torch\n",
        "x = torch.tensor([[2., -1.], [1., 1.]], requires_grad=True)\n",
        "print(x)"
      ]
    },
    {
      "cell_type": "code",
      "source": [
        "out = x.pow(2).sum()"
      ],
      "metadata": {
        "id": "sdrNgk9pE_Hi"
      },
      "execution_count": 2,
      "outputs": []
    },
    {
      "cell_type": "code",
      "source": [
        "out.backward()"
      ],
      "metadata": {
        "id": "CQke-QXkFgWe"
      },
      "execution_count": 3,
      "outputs": []
    },
    {
      "cell_type": "code",
      "source": [
        "x.grad"
      ],
      "metadata": {
        "colab": {
          "base_uri": "https://localhost:8080/"
        },
        "id": "DETvzgEUFlkc",
        "outputId": "abf3e309-26b0-4183-f58f-2bb7407b78a4"
      },
      "execution_count": 4,
      "outputs": [
        {
          "output_type": "execute_result",
          "data": {
            "text/plain": [
              "tensor([[ 4., -2.],\n",
              "        [ 2.,  2.]])"
            ]
          },
          "metadata": {},
          "execution_count": 4
        }
      ]
    },
    {
      "cell_type": "code",
      "source": [
        "x = np.array([[1,1]])\n",
        "y = np.array([[0]])\n",
        "x, y = [torch.tensor(i).float() for i in [x,y]]"
      ],
      "metadata": {
        "id": "4MQ_FUTmFnGm"
      },
      "execution_count": 5,
      "outputs": []
    },
    {
      "cell_type": "code",
      "source": [
        "W = [\n",
        "    np.array([[-0.0053, 0.3793],\n",
        "              [-0.5820, -0.5204],\n",
        "              [-0.2723, 0.1896]], dtype=np.float32).T,\n",
        "    np.array([-0.0140, 0.5607, -0.0628], dtype=np.float32),\n",
        "    np.array([[ 0.1528, -0.1745, -0.1135]], dtype=np.float32).T,\n",
        "    np.array([-0.5516], dtype=np.float32)\n",
        "]\n",
        "\n",
        "W = [torch.tensor(i, requires_grad=True) for i in W]"
      ],
      "metadata": {
        "id": "lLhTLnkEFtGu"
      },
      "execution_count": 6,
      "outputs": []
    },
    {
      "cell_type": "code",
      "source": [
        "def feed_forward(inputs, outputs, weights):\n",
        "    pre_hidden = torch.matmul(inputs,weights[0])+ weights[1]\n",
        "    hidden = 1/(1+torch.exp(-pre_hidden))\n",
        "    out = torch.matmul(hidden, weights[2]) + weights[3]\n",
        "    mean_squared_error = torch.mean(torch.square(out - outputs))\n",
        "    return mean_squared_error"
      ],
      "metadata": {
        "id": "Qagr_Gi5Fylt"
      },
      "execution_count": 7,
      "outputs": []
    },
    {
      "cell_type": "code",
      "source": [
        "loss = feed_forward(x, y, W)\n",
        "loss"
      ],
      "metadata": {
        "colab": {
          "base_uri": "https://localhost:8080/"
        },
        "id": "qtO3F5WEF0wx",
        "outputId": "90334cdc-dd03-4a2d-925a-fc7f492605f1"
      },
      "execution_count": 8,
      "outputs": [
        {
          "output_type": "execute_result",
          "data": {
            "text/plain": [
              "tensor(0.3346, grad_fn=<MeanBackward0>)"
            ]
          },
          "metadata": {},
          "execution_count": 8
        }
      ]
    },
    {
      "cell_type": "code",
      "source": [
        "loss.backward()"
      ],
      "metadata": {
        "id": "iLCSUk14F5v1"
      },
      "execution_count": 9,
      "outputs": []
    },
    {
      "cell_type": "code",
      "source": [
        "print([w.grad for w in W])"
      ],
      "metadata": {
        "colab": {
          "base_uri": "https://localhost:8080/"
        },
        "id": "blpgDewOF-I4",
        "outputId": "7bb00fa2-7e19-4a07-f8d7-ca43d2096a1f"
      },
      "execution_count": 10,
      "outputs": [
        {
          "output_type": "stream",
          "name": "stdout",
          "text": [
            "[tensor([[-0.0428,  0.0469,  0.0327],\n",
            "        [-0.0428,  0.0469,  0.0327]]), tensor([-0.0428,  0.0469,  0.0327]), tensor([[-0.6814],\n",
            "        [-0.4255],\n",
            "        [-0.5364]]), tensor([-1.1568])]\n"
          ]
        }
      ]
    },
    {
      "cell_type": "code",
      "source": [
        "updated_W = [w-w.grad for w in W]\n",
        "updated_W"
      ],
      "metadata": {
        "colab": {
          "base_uri": "https://localhost:8080/"
        },
        "id": "1m6C9elpGCkK",
        "outputId": "24a28fca-0908-4616-91a2-eb9a7b79e45a"
      },
      "execution_count": 11,
      "outputs": [
        {
          "output_type": "execute_result",
          "data": {
            "text/plain": [
              "[tensor([[ 0.0375, -0.6289, -0.3050],\n",
              "         [ 0.4221, -0.5673,  0.1569]], grad_fn=<SubBackward0>),\n",
              " tensor([ 0.0288,  0.5138, -0.0955], grad_fn=<SubBackward0>),\n",
              " tensor([[0.8342],\n",
              "         [0.2510],\n",
              "         [0.4229]], grad_fn=<SubBackward0>),\n",
              " tensor([0.6052], grad_fn=<SubBackward0>)]"
            ]
          },
          "metadata": {},
          "execution_count": 11
        }
      ]
    },
    {
      "cell_type": "code",
      "source": [],
      "metadata": {
        "id": "WBQ0b5RQGHcd"
      },
      "execution_count": null,
      "outputs": []
    }
  ]
}