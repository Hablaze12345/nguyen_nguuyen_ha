{
  "nbformat": 4,
  "nbformat_minor": 0,
  "metadata": {
    "colab": {
      "provenance": [],
      "gpuType": "T4"
    },
    "kernelspec": {
      "name": "python3",
      "display_name": "Python 3"
    },
    "language_info": {
      "name": "python"
    },
    "accelerator": "GPU"
  },
  "cells": [
    {
      "cell_type": "code",
      "source": [
        "!pip install -q torch_snippets\n",
        "from torch_snippets import *\n",
        "import torch\n",
        "import torch.nn as nn\n",
        "import torch.nn.functional as F\n",
        "import torch.optim as optim\n",
        "from torchvision import datasets, transforms\n",
        "from torchvision.utils import make_grid\n",
        "device = 'cuda' if torch.cuda.is_available() else 'cpu'\n",
        "train_dataset = datasets.MNIST(root='MNIST/', train=True, transform=transforms.ToTensor(), download=True)\n",
        "test_dataset = datasets.MNIST(root='MNIST/', train=False, transform=transforms.ToTensor(), download=True)\n",
        "\n",
        "train_loader = torch.utils.data.DataLoader(dataset=train_dataset, batch_size=64, shuffle=True)\n",
        "test_loader = torch.utils.data.DataLoader(dataset=test_dataset, batch_size=64, shuffle=False)"
      ],
      "metadata": {
        "colab": {
          "base_uri": "https://localhost:8080/"
        },
        "id": "o6DTgPZZfPZ6",
        "outputId": "605e33ed-cddc-4437-a28a-ff10ed4213f7"
      },
      "execution_count": 9,
      "outputs": [
        {
          "output_type": "stream",
          "name": "stdout",
          "text": [
            "Downloading http://yann.lecun.com/exdb/mnist/train-images-idx3-ubyte.gz\n",
            "Downloading http://yann.lecun.com/exdb/mnist/train-images-idx3-ubyte.gz to MNIST/MNIST/raw/train-images-idx3-ubyte.gz\n"
          ]
        },
        {
          "output_type": "stream",
          "name": "stderr",
          "text": [
            "100%|██████████| 9912422/9912422 [00:00<00:00, 102558836.18it/s]\n"
          ]
        },
        {
          "output_type": "stream",
          "name": "stdout",
          "text": [
            "Extracting MNIST/MNIST/raw/train-images-idx3-ubyte.gz to MNIST/MNIST/raw\n",
            "\n",
            "Downloading http://yann.lecun.com/exdb/mnist/train-labels-idx1-ubyte.gz\n",
            "Downloading http://yann.lecun.com/exdb/mnist/train-labels-idx1-ubyte.gz to MNIST/MNIST/raw/train-labels-idx1-ubyte.gz\n"
          ]
        },
        {
          "output_type": "stream",
          "name": "stderr",
          "text": [
            "100%|██████████| 28881/28881 [00:00<00:00, 37180998.72it/s]\n"
          ]
        },
        {
          "output_type": "stream",
          "name": "stdout",
          "text": [
            "Extracting MNIST/MNIST/raw/train-labels-idx1-ubyte.gz to MNIST/MNIST/raw\n",
            "\n",
            "Downloading http://yann.lecun.com/exdb/mnist/t10k-images-idx3-ubyte.gz\n",
            "Downloading http://yann.lecun.com/exdb/mnist/t10k-images-idx3-ubyte.gz to MNIST/MNIST/raw/t10k-images-idx3-ubyte.gz\n"
          ]
        },
        {
          "output_type": "stream",
          "name": "stderr",
          "text": [
            "100%|██████████| 1648877/1648877 [00:00<00:00, 26062494.43it/s]\n"
          ]
        },
        {
          "output_type": "stream",
          "name": "stdout",
          "text": [
            "Extracting MNIST/MNIST/raw/t10k-images-idx3-ubyte.gz to MNIST/MNIST/raw\n",
            "\n",
            "Downloading http://yann.lecun.com/exdb/mnist/t10k-labels-idx1-ubyte.gz\n",
            "Downloading http://yann.lecun.com/exdb/mnist/t10k-labels-idx1-ubyte.gz to MNIST/MNIST/raw/t10k-labels-idx1-ubyte.gz\n"
          ]
        },
        {
          "output_type": "stream",
          "name": "stderr",
          "text": [
            "100%|██████████| 4542/4542 [00:00<00:00, 4902349.14it/s]\n"
          ]
        },
        {
          "output_type": "stream",
          "name": "stdout",
          "text": [
            "Extracting MNIST/MNIST/raw/t10k-labels-idx1-ubyte.gz to MNIST/MNIST/raw\n",
            "\n"
          ]
        }
      ]
    },
    {
      "cell_type": "code",
      "source": [
        "class VAE(nn.Module):\n",
        "    def __init__(self, x_dim, h_dim1, h_dim2, z_dim):\n",
        "        super(VAE, self).__init__()\n",
        "        self.d1 = nn.Linear(x_dim, h_dim1)\n",
        "        self.d2 = nn.Linear(h_dim1, h_dim2)\n",
        "        self.d31 = nn.Linear(h_dim2, z_dim)\n",
        "        self.d32 = nn.Linear(h_dim2, z_dim)\n",
        "        self.d4 = nn.Linear(z_dim, h_dim2)\n",
        "        self.d5 = nn.Linear(h_dim2, h_dim1)\n",
        "        self.d6 = nn.Linear(h_dim1, x_dim)\n",
        "    def encoder(self, x):\n",
        "        h = F.relu(self.d1(x))\n",
        "        h = F.relu(self.d2(h))\n",
        "        return self.d31(h), self.d32(h)\n",
        "    def sampling(self, mean, log_var):\n",
        "        std = torch.exp(0.5*log_var)\n",
        "        eps = torch.randn_like(std)\n",
        "        return eps.mul(std).add_(mean)\n",
        "    def decoder(self, z):\n",
        "        h = F.relu(self.d4(z))\n",
        "        h = F.relu(self.d5(h))\n",
        "        return F.sigmoid(self.d6(h))\n",
        "    def forward(self, x):\n",
        "        mean, log_var = self.encoder(x.view(-1, 784))\n",
        "        z = self.sampling(mean, log_var)\n",
        "        return self.decoder(z), mean, log_var\n"
      ],
      "metadata": {
        "id": "aRiXU_D2fQVC"
      },
      "execution_count": 10,
      "outputs": []
    },
    {
      "cell_type": "code",
      "source": [
        "def train_batch(data, model, optimizer, loss_function):\n",
        "    model.train()\n",
        "    data = data.to(device)\n",
        "    optimizer.zero_grad()\n",
        "    recon_batch, mean, log_var = model(data)\n",
        "    loss, mse, kld = loss_function(recon_batch, data, mean, log_var)\n",
        "    loss.backward()\n",
        "    optimizer.step()\n",
        "    return loss, mse, kld, log_var.mean(), mean.mean()\n",
        "\n",
        "@torch.no_grad()\n",
        "def validate_batch(data, model, loss_function):\n",
        "    model.eval()\n",
        "    data = data.to(device)\n",
        "    recon, mean, log_var = model(data)\n",
        "    loss, mse, kld = loss_function(recon, data, mean, log_var)\n",
        "    return loss, mse, kld, log_var.mean(), mean.mean()"
      ],
      "metadata": {
        "id": "Al4LBLa1fVdl"
      },
      "execution_count": 11,
      "outputs": []
    },
    {
      "cell_type": "code",
      "source": [
        "def loss_function(recon_x, x, mean, log_var):\n",
        "    RECON = F.mse_loss(recon_x, x.view(-1, 784), reduction='sum')\n",
        "    KLD = -0.5 * torch.sum(1 + log_var - mean.pow(2) - log_var.exp())\n",
        "    return RECON + KLD, RECON, KLD"
      ],
      "metadata": {
        "id": "bHLEDUNCfaSd"
      },
      "execution_count": 12,
      "outputs": []
    },
    {
      "cell_type": "code",
      "source": [
        "vae = VAE(x_dim=784, h_dim1=512, h_dim2=256, z_dim=50).to(device)\n",
        "optimizer = optim.AdamW(vae.parameters(), lr=1e-3)"
      ],
      "metadata": {
        "id": "paJDaMqufcfh"
      },
      "execution_count": 13,
      "outputs": []
    },
    {
      "cell_type": "code",
      "source": [
        "n_epochs = 10\n",
        "log = Report(n_epochs)\n",
        "\n",
        "for epoch in range(n_epochs):\n",
        "    N = len(train_loader)\n",
        "    for batch_idx, (data, _) in enumerate(train_loader):\n",
        "        loss, recon, kld, log_var, mean = train_batch(data, vae, optimizer, loss_function)\n",
        "        pos = epoch + (1+batch_idx)/N\n",
        "        log.record(pos, train_loss=loss, train_kld=kld, train_recon=recon, train_log_var=log_var, train_mean=mean, end='\\r')\n",
        "\n",
        "    N = len(test_loader)\n",
        "    for batch_idx, (data, _) in enumerate(test_loader):\n",
        "        loss, recon, kld, log_var, mean = validate_batch(data, vae, loss_function)\n",
        "        pos = epoch + (1+batch_idx)/N\n",
        "        log.record(pos, val_loss=loss, val_kld=kld, val_recon=recon, val_log_var=log_var, val_mean=mean, end='\\r')\n",
        "\n",
        "    log.report_avgs(epoch+1)\n",
        "    with torch.no_grad():\n",
        "        z = torch.randn(64, 50).to(device)\n",
        "        sample = vae.decoder(z).to(device)\n",
        "        images = make_grid(sample.view(64, 1, 28, 28)).permute(1,2,0)\n",
        "        show(images)"
      ],
      "metadata": {
        "colab": {
          "base_uri": "https://localhost:8080/",
          "height": 1000
        },
        "id": "xPw4B2gmfepT",
        "outputId": "e562b52b-5b6b-4f83-e023-be61722239d6"
      },
      "execution_count": 14,
      "outputs": [
        {
          "output_type": "stream",
          "name": "stdout",
          "text": [
            "EPOCH: 1.000  train_log_var: -0.140  train_recon: 2732.316  train_loss: 2963.033  train_mean: 0.001  val_log_var: -0.264  val_loss: 2429.490  val_mean: -0.001  train_kld: 230.717  val_recon: 1991.393  val_kld: 438.097  (16.44s - 147.99s remaining)\n"
          ]
        },
        {
          "output_type": "display_data",
          "data": {
            "text/plain": [
              "tensor([[[0.0000, 0.0000, 0.0000],\n",
              "         [0.0000, 0.0000, 0.0000],\n",
              "         [0.0000, 0.0000, 0.0000],\n",
              "         ...,\n",
              "         [0.0000, 0.0000, 0.0000],\n",
              "         [0.0000, 0.0000, 0.0000],\n",
              "         [0.0000, 0.0000, 0.0000]],\n",
              "\n",
              "        [[0.0000, 0.0000, 0.0000],\n",
              "         [0.0000, 0.0000, 0.0000],\n",
              "         [0.0000, 0.0000, 0.0000],\n",
              "         ...,\n",
              "         [0.0000, 0.0000, 0.0000],\n",
              "         [0.0000, 0.0000, 0.0000],\n",
              "         [0.0000, 0.0000, 0.0000]],\n",
              "\n",
              "        [[0.0000, 0.0000, 0.0000],\n",
              "         [0.0000, 0.0000, 0.0000],\n",
              "         [0.0036, 0.0036, 0.0036],\n",
              "         ...,\n",
              "         [0.0003, 0.0003, 0.0003],\n",
              "         [0.0000, 0.0000, 0.0000],\n",
              "         [0.0000, 0.0000, 0.0000]],\n",
              "\n",
              "        ...,\n",
              "\n",
              "        [[0.0000, 0.0000, 0.0000],\n",
              "         [0.0000, 0.0000, 0.0000],\n",
              "         [0.0070, 0.0070, 0.0070],\n",
              "         ...,\n",
              "         [0.0096, 0.0096, 0.0096],\n",
              "         [0.0000, 0.0000, 0.0000],\n",
              "         [0.0000, 0.0000, 0.0000]],\n",
              "\n",
              "        [[0.0000, 0.0000, 0.0000],\n",
              "         [0.0000, 0.0000, 0.0000],\n",
              "         [0.0000, 0.0000, 0.0000],\n",
              "         ...,\n",
              "         [0.0000, 0.0000, 0.0000],\n",
              "         [0.0000, 0.0000, 0.0000],\n",
              "         [0.0000, 0.0000, 0.0000]],\n",
              "\n",
              "        [[0.0000, 0.0000, 0.0000],\n",
              "         [0.0000, 0.0000, 0.0000],\n",
              "         [0.0000, 0.0000, 0.0000],\n",
              "         ...,\n",
              "         [0.0000, 0.0000, 0.0000],\n",
              "         [0.0000, 0.0000, 0.0000],\n",
              "         [0.0000, 0.0000, 0.0000]]], device='cuda:0')"
            ]
          },
          "metadata": {}
        },
        {
          "output_type": "stream",
          "name": "stdout",
          "text": [
            "EPOCH: 2.000  train_log_var: -0.294  train_recon: 1778.529  train_loss: 2261.822  train_mean: 0.001  val_log_var: -0.323  val_loss: 2110.107  val_mean: -0.002  train_kld: 483.294  val_recon: 1579.076  val_kld: 531.030  (30.15s - 120.58s remaining)\n"
          ]
        },
        {
          "output_type": "display_data",
          "data": {
            "text/plain": [
              "tensor([[[0.0000, 0.0000, 0.0000],\n",
              "         [0.0000, 0.0000, 0.0000],\n",
              "         [0.0000, 0.0000, 0.0000],\n",
              "         ...,\n",
              "         [0.0000, 0.0000, 0.0000],\n",
              "         [0.0000, 0.0000, 0.0000],\n",
              "         [0.0000, 0.0000, 0.0000]],\n",
              "\n",
              "        [[0.0000, 0.0000, 0.0000],\n",
              "         [0.0000, 0.0000, 0.0000],\n",
              "         [0.0000, 0.0000, 0.0000],\n",
              "         ...,\n",
              "         [0.0000, 0.0000, 0.0000],\n",
              "         [0.0000, 0.0000, 0.0000],\n",
              "         [0.0000, 0.0000, 0.0000]],\n",
              "\n",
              "        [[0.0000, 0.0000, 0.0000],\n",
              "         [0.0000, 0.0000, 0.0000],\n",
              "         [0.0012, 0.0012, 0.0012],\n",
              "         ...,\n",
              "         [0.0004, 0.0004, 0.0004],\n",
              "         [0.0000, 0.0000, 0.0000],\n",
              "         [0.0000, 0.0000, 0.0000]],\n",
              "\n",
              "        ...,\n",
              "\n",
              "        [[0.0000, 0.0000, 0.0000],\n",
              "         [0.0000, 0.0000, 0.0000],\n",
              "         [0.0185, 0.0185, 0.0185],\n",
              "         ...,\n",
              "         [0.0007, 0.0007, 0.0007],\n",
              "         [0.0000, 0.0000, 0.0000],\n",
              "         [0.0000, 0.0000, 0.0000]],\n",
              "\n",
              "        [[0.0000, 0.0000, 0.0000],\n",
              "         [0.0000, 0.0000, 0.0000],\n",
              "         [0.0000, 0.0000, 0.0000],\n",
              "         ...,\n",
              "         [0.0000, 0.0000, 0.0000],\n",
              "         [0.0000, 0.0000, 0.0000],\n",
              "         [0.0000, 0.0000, 0.0000]],\n",
              "\n",
              "        [[0.0000, 0.0000, 0.0000],\n",
              "         [0.0000, 0.0000, 0.0000],\n",
              "         [0.0000, 0.0000, 0.0000],\n",
              "         ...,\n",
              "         [0.0000, 0.0000, 0.0000],\n",
              "         [0.0000, 0.0000, 0.0000],\n",
              "         [0.0000, 0.0000, 0.0000]]], device='cuda:0')"
            ]
          },
          "metadata": {}
        },
        {
          "output_type": "stream",
          "name": "stdout",
          "text": [
            "EPOCH: 3.000  train_log_var: -0.340  train_recon: 1511.720  train_loss: 2065.071  train_mean: 0.001  val_log_var: -0.356  val_loss: 1997.438  val_mean: 0.006  train_kld: 553.351  val_recon: 1425.107  val_kld: 572.331  (44.00s - 102.66s remaining)\n"
          ]
        },
        {
          "output_type": "display_data",
          "data": {
            "text/plain": [
              "tensor([[[0.0000, 0.0000, 0.0000],\n",
              "         [0.0000, 0.0000, 0.0000],\n",
              "         [0.0000, 0.0000, 0.0000],\n",
              "         ...,\n",
              "         [0.0000, 0.0000, 0.0000],\n",
              "         [0.0000, 0.0000, 0.0000],\n",
              "         [0.0000, 0.0000, 0.0000]],\n",
              "\n",
              "        [[0.0000, 0.0000, 0.0000],\n",
              "         [0.0000, 0.0000, 0.0000],\n",
              "         [0.0000, 0.0000, 0.0000],\n",
              "         ...,\n",
              "         [0.0000, 0.0000, 0.0000],\n",
              "         [0.0000, 0.0000, 0.0000],\n",
              "         [0.0000, 0.0000, 0.0000]],\n",
              "\n",
              "        [[0.0000, 0.0000, 0.0000],\n",
              "         [0.0000, 0.0000, 0.0000],\n",
              "         [0.0003, 0.0003, 0.0003],\n",
              "         ...,\n",
              "         [0.0002, 0.0002, 0.0002],\n",
              "         [0.0000, 0.0000, 0.0000],\n",
              "         [0.0000, 0.0000, 0.0000]],\n",
              "\n",
              "        ...,\n",
              "\n",
              "        [[0.0000, 0.0000, 0.0000],\n",
              "         [0.0000, 0.0000, 0.0000],\n",
              "         [0.0012, 0.0012, 0.0012],\n",
              "         ...,\n",
              "         [0.0009, 0.0009, 0.0009],\n",
              "         [0.0000, 0.0000, 0.0000],\n",
              "         [0.0000, 0.0000, 0.0000]],\n",
              "\n",
              "        [[0.0000, 0.0000, 0.0000],\n",
              "         [0.0000, 0.0000, 0.0000],\n",
              "         [0.0000, 0.0000, 0.0000],\n",
              "         ...,\n",
              "         [0.0000, 0.0000, 0.0000],\n",
              "         [0.0000, 0.0000, 0.0000],\n",
              "         [0.0000, 0.0000, 0.0000]],\n",
              "\n",
              "        [[0.0000, 0.0000, 0.0000],\n",
              "         [0.0000, 0.0000, 0.0000],\n",
              "         [0.0000, 0.0000, 0.0000],\n",
              "         ...,\n",
              "         [0.0000, 0.0000, 0.0000],\n",
              "         [0.0000, 0.0000, 0.0000],\n",
              "         [0.0000, 0.0000, 0.0000]]], device='cuda:0')"
            ]
          },
          "metadata": {}
        },
        {
          "output_type": "stream",
          "name": "stdout",
          "text": [
            "EPOCH: 4.000  train_log_var: -0.360  train_recon: 1411.409  train_loss: 1994.297  train_mean: 0.000  val_log_var: -0.379  val_loss: 1949.744  val_mean: 0.004  train_kld: 582.889  val_recon: 1333.683  val_kld: 616.060  (57.67s - 86.51s remaining)\n"
          ]
        },
        {
          "output_type": "display_data",
          "data": {
            "text/plain": [
              "tensor([[[0.0000e+00, 0.0000e+00, 0.0000e+00],\n",
              "         [0.0000e+00, 0.0000e+00, 0.0000e+00],\n",
              "         [0.0000e+00, 0.0000e+00, 0.0000e+00],\n",
              "         ...,\n",
              "         [0.0000e+00, 0.0000e+00, 0.0000e+00],\n",
              "         [0.0000e+00, 0.0000e+00, 0.0000e+00],\n",
              "         [0.0000e+00, 0.0000e+00, 0.0000e+00]],\n",
              "\n",
              "        [[0.0000e+00, 0.0000e+00, 0.0000e+00],\n",
              "         [0.0000e+00, 0.0000e+00, 0.0000e+00],\n",
              "         [0.0000e+00, 0.0000e+00, 0.0000e+00],\n",
              "         ...,\n",
              "         [0.0000e+00, 0.0000e+00, 0.0000e+00],\n",
              "         [0.0000e+00, 0.0000e+00, 0.0000e+00],\n",
              "         [0.0000e+00, 0.0000e+00, 0.0000e+00]],\n",
              "\n",
              "        [[0.0000e+00, 0.0000e+00, 0.0000e+00],\n",
              "         [0.0000e+00, 0.0000e+00, 0.0000e+00],\n",
              "         [2.1279e-05, 2.1279e-05, 2.1279e-05],\n",
              "         ...,\n",
              "         [4.4940e-03, 4.4940e-03, 4.4940e-03],\n",
              "         [0.0000e+00, 0.0000e+00, 0.0000e+00],\n",
              "         [0.0000e+00, 0.0000e+00, 0.0000e+00]],\n",
              "\n",
              "        ...,\n",
              "\n",
              "        [[0.0000e+00, 0.0000e+00, 0.0000e+00],\n",
              "         [0.0000e+00, 0.0000e+00, 0.0000e+00],\n",
              "         [2.4830e-04, 2.4830e-04, 2.4830e-04],\n",
              "         ...,\n",
              "         [1.3370e-04, 1.3370e-04, 1.3370e-04],\n",
              "         [0.0000e+00, 0.0000e+00, 0.0000e+00],\n",
              "         [0.0000e+00, 0.0000e+00, 0.0000e+00]],\n",
              "\n",
              "        [[0.0000e+00, 0.0000e+00, 0.0000e+00],\n",
              "         [0.0000e+00, 0.0000e+00, 0.0000e+00],\n",
              "         [0.0000e+00, 0.0000e+00, 0.0000e+00],\n",
              "         ...,\n",
              "         [0.0000e+00, 0.0000e+00, 0.0000e+00],\n",
              "         [0.0000e+00, 0.0000e+00, 0.0000e+00],\n",
              "         [0.0000e+00, 0.0000e+00, 0.0000e+00]],\n",
              "\n",
              "        [[0.0000e+00, 0.0000e+00, 0.0000e+00],\n",
              "         [0.0000e+00, 0.0000e+00, 0.0000e+00],\n",
              "         [0.0000e+00, 0.0000e+00, 0.0000e+00],\n",
              "         ...,\n",
              "         [0.0000e+00, 0.0000e+00, 0.0000e+00],\n",
              "         [0.0000e+00, 0.0000e+00, 0.0000e+00],\n",
              "         [0.0000e+00, 0.0000e+00, 0.0000e+00]]], device='cuda:0')"
            ]
          },
          "metadata": {}
        },
        {
          "output_type": "stream",
          "name": "stdout",
          "text": [
            "EPOCH: 5.000  train_log_var: -0.372  train_recon: 1351.328  train_loss: 1952.530  train_mean: 0.000  val_log_var: -0.378  val_loss: 1910.147  val_mean: 0.001  train_kld: 601.203  val_recon: 1303.059  val_kld: 607.088  (71.25s - 71.25s remaining)\n"
          ]
        },
        {
          "output_type": "display_data",
          "data": {
            "text/plain": [
              "tensor([[[0.0000e+00, 0.0000e+00, 0.0000e+00],\n",
              "         [0.0000e+00, 0.0000e+00, 0.0000e+00],\n",
              "         [0.0000e+00, 0.0000e+00, 0.0000e+00],\n",
              "         ...,\n",
              "         [0.0000e+00, 0.0000e+00, 0.0000e+00],\n",
              "         [0.0000e+00, 0.0000e+00, 0.0000e+00],\n",
              "         [0.0000e+00, 0.0000e+00, 0.0000e+00]],\n",
              "\n",
              "        [[0.0000e+00, 0.0000e+00, 0.0000e+00],\n",
              "         [0.0000e+00, 0.0000e+00, 0.0000e+00],\n",
              "         [0.0000e+00, 0.0000e+00, 0.0000e+00],\n",
              "         ...,\n",
              "         [0.0000e+00, 0.0000e+00, 0.0000e+00],\n",
              "         [0.0000e+00, 0.0000e+00, 0.0000e+00],\n",
              "         [0.0000e+00, 0.0000e+00, 0.0000e+00]],\n",
              "\n",
              "        [[0.0000e+00, 0.0000e+00, 0.0000e+00],\n",
              "         [0.0000e+00, 0.0000e+00, 0.0000e+00],\n",
              "         [8.4572e-05, 8.4572e-05, 8.4572e-05],\n",
              "         ...,\n",
              "         [6.4140e-04, 6.4140e-04, 6.4140e-04],\n",
              "         [0.0000e+00, 0.0000e+00, 0.0000e+00],\n",
              "         [0.0000e+00, 0.0000e+00, 0.0000e+00]],\n",
              "\n",
              "        ...,\n",
              "\n",
              "        [[0.0000e+00, 0.0000e+00, 0.0000e+00],\n",
              "         [0.0000e+00, 0.0000e+00, 0.0000e+00],\n",
              "         [2.9275e-04, 2.9275e-04, 2.9275e-04],\n",
              "         ...,\n",
              "         [8.1251e-04, 8.1251e-04, 8.1251e-04],\n",
              "         [0.0000e+00, 0.0000e+00, 0.0000e+00],\n",
              "         [0.0000e+00, 0.0000e+00, 0.0000e+00]],\n",
              "\n",
              "        [[0.0000e+00, 0.0000e+00, 0.0000e+00],\n",
              "         [0.0000e+00, 0.0000e+00, 0.0000e+00],\n",
              "         [0.0000e+00, 0.0000e+00, 0.0000e+00],\n",
              "         ...,\n",
              "         [0.0000e+00, 0.0000e+00, 0.0000e+00],\n",
              "         [0.0000e+00, 0.0000e+00, 0.0000e+00],\n",
              "         [0.0000e+00, 0.0000e+00, 0.0000e+00]],\n",
              "\n",
              "        [[0.0000e+00, 0.0000e+00, 0.0000e+00],\n",
              "         [0.0000e+00, 0.0000e+00, 0.0000e+00],\n",
              "         [0.0000e+00, 0.0000e+00, 0.0000e+00],\n",
              "         ...,\n",
              "         [0.0000e+00, 0.0000e+00, 0.0000e+00],\n",
              "         [0.0000e+00, 0.0000e+00, 0.0000e+00],\n",
              "         [0.0000e+00, 0.0000e+00, 0.0000e+00]]], device='cuda:0')"
            ]
          },
          "metadata": {}
        },
        {
          "output_type": "stream",
          "name": "stdout",
          "text": [
            "EPOCH: 6.000  train_log_var: -0.380  train_recon: 1309.537  train_loss: 1921.016  train_mean: 0.000  val_log_var: -0.389  val_loss: 1903.005  val_mean: 0.003  train_kld: 611.479  val_recon: 1276.980  val_kld: 626.025  (84.61s - 56.40s remaining)\n"
          ]
        },
        {
          "output_type": "display_data",
          "data": {
            "text/plain": [
              "tensor([[[0.0000e+00, 0.0000e+00, 0.0000e+00],\n",
              "         [0.0000e+00, 0.0000e+00, 0.0000e+00],\n",
              "         [0.0000e+00, 0.0000e+00, 0.0000e+00],\n",
              "         ...,\n",
              "         [0.0000e+00, 0.0000e+00, 0.0000e+00],\n",
              "         [0.0000e+00, 0.0000e+00, 0.0000e+00],\n",
              "         [0.0000e+00, 0.0000e+00, 0.0000e+00]],\n",
              "\n",
              "        [[0.0000e+00, 0.0000e+00, 0.0000e+00],\n",
              "         [0.0000e+00, 0.0000e+00, 0.0000e+00],\n",
              "         [0.0000e+00, 0.0000e+00, 0.0000e+00],\n",
              "         ...,\n",
              "         [0.0000e+00, 0.0000e+00, 0.0000e+00],\n",
              "         [0.0000e+00, 0.0000e+00, 0.0000e+00],\n",
              "         [0.0000e+00, 0.0000e+00, 0.0000e+00]],\n",
              "\n",
              "        [[0.0000e+00, 0.0000e+00, 0.0000e+00],\n",
              "         [0.0000e+00, 0.0000e+00, 0.0000e+00],\n",
              "         [3.8314e-04, 3.8314e-04, 3.8314e-04],\n",
              "         ...,\n",
              "         [7.5588e-05, 7.5588e-05, 7.5588e-05],\n",
              "         [0.0000e+00, 0.0000e+00, 0.0000e+00],\n",
              "         [0.0000e+00, 0.0000e+00, 0.0000e+00]],\n",
              "\n",
              "        ...,\n",
              "\n",
              "        [[0.0000e+00, 0.0000e+00, 0.0000e+00],\n",
              "         [0.0000e+00, 0.0000e+00, 0.0000e+00],\n",
              "         [2.6889e-05, 2.6889e-05, 2.6889e-05],\n",
              "         ...,\n",
              "         [4.9743e-04, 4.9743e-04, 4.9743e-04],\n",
              "         [0.0000e+00, 0.0000e+00, 0.0000e+00],\n",
              "         [0.0000e+00, 0.0000e+00, 0.0000e+00]],\n",
              "\n",
              "        [[0.0000e+00, 0.0000e+00, 0.0000e+00],\n",
              "         [0.0000e+00, 0.0000e+00, 0.0000e+00],\n",
              "         [0.0000e+00, 0.0000e+00, 0.0000e+00],\n",
              "         ...,\n",
              "         [0.0000e+00, 0.0000e+00, 0.0000e+00],\n",
              "         [0.0000e+00, 0.0000e+00, 0.0000e+00],\n",
              "         [0.0000e+00, 0.0000e+00, 0.0000e+00]],\n",
              "\n",
              "        [[0.0000e+00, 0.0000e+00, 0.0000e+00],\n",
              "         [0.0000e+00, 0.0000e+00, 0.0000e+00],\n",
              "         [0.0000e+00, 0.0000e+00, 0.0000e+00],\n",
              "         ...,\n",
              "         [0.0000e+00, 0.0000e+00, 0.0000e+00],\n",
              "         [0.0000e+00, 0.0000e+00, 0.0000e+00],\n",
              "         [0.0000e+00, 0.0000e+00, 0.0000e+00]]], device='cuda:0')"
            ]
          },
          "metadata": {}
        },
        {
          "output_type": "stream",
          "name": "stdout",
          "text": [
            "EPOCH: 7.000  train_log_var: -0.387  train_recon: 1277.334  train_loss: 1899.630  train_mean: 0.000  val_log_var: -0.395  val_loss: 1872.343  val_mean: 0.000  train_kld: 622.296  val_recon: 1243.743  val_kld: 628.601  (98.50s - 42.21s remaining)\n"
          ]
        },
        {
          "output_type": "display_data",
          "data": {
            "text/plain": [
              "tensor([[[0.0000e+00, 0.0000e+00, 0.0000e+00],\n",
              "         [0.0000e+00, 0.0000e+00, 0.0000e+00],\n",
              "         [0.0000e+00, 0.0000e+00, 0.0000e+00],\n",
              "         ...,\n",
              "         [0.0000e+00, 0.0000e+00, 0.0000e+00],\n",
              "         [0.0000e+00, 0.0000e+00, 0.0000e+00],\n",
              "         [0.0000e+00, 0.0000e+00, 0.0000e+00]],\n",
              "\n",
              "        [[0.0000e+00, 0.0000e+00, 0.0000e+00],\n",
              "         [0.0000e+00, 0.0000e+00, 0.0000e+00],\n",
              "         [0.0000e+00, 0.0000e+00, 0.0000e+00],\n",
              "         ...,\n",
              "         [0.0000e+00, 0.0000e+00, 0.0000e+00],\n",
              "         [0.0000e+00, 0.0000e+00, 0.0000e+00],\n",
              "         [0.0000e+00, 0.0000e+00, 0.0000e+00]],\n",
              "\n",
              "        [[0.0000e+00, 0.0000e+00, 0.0000e+00],\n",
              "         [0.0000e+00, 0.0000e+00, 0.0000e+00],\n",
              "         [4.0902e-04, 4.0902e-04, 4.0902e-04],\n",
              "         ...,\n",
              "         [1.4950e-03, 1.4950e-03, 1.4950e-03],\n",
              "         [0.0000e+00, 0.0000e+00, 0.0000e+00],\n",
              "         [0.0000e+00, 0.0000e+00, 0.0000e+00]],\n",
              "\n",
              "        ...,\n",
              "\n",
              "        [[0.0000e+00, 0.0000e+00, 0.0000e+00],\n",
              "         [0.0000e+00, 0.0000e+00, 0.0000e+00],\n",
              "         [2.0549e-04, 2.0549e-04, 2.0549e-04],\n",
              "         ...,\n",
              "         [7.4011e-05, 7.4011e-05, 7.4011e-05],\n",
              "         [0.0000e+00, 0.0000e+00, 0.0000e+00],\n",
              "         [0.0000e+00, 0.0000e+00, 0.0000e+00]],\n",
              "\n",
              "        [[0.0000e+00, 0.0000e+00, 0.0000e+00],\n",
              "         [0.0000e+00, 0.0000e+00, 0.0000e+00],\n",
              "         [0.0000e+00, 0.0000e+00, 0.0000e+00],\n",
              "         ...,\n",
              "         [0.0000e+00, 0.0000e+00, 0.0000e+00],\n",
              "         [0.0000e+00, 0.0000e+00, 0.0000e+00],\n",
              "         [0.0000e+00, 0.0000e+00, 0.0000e+00]],\n",
              "\n",
              "        [[0.0000e+00, 0.0000e+00, 0.0000e+00],\n",
              "         [0.0000e+00, 0.0000e+00, 0.0000e+00],\n",
              "         [0.0000e+00, 0.0000e+00, 0.0000e+00],\n",
              "         ...,\n",
              "         [0.0000e+00, 0.0000e+00, 0.0000e+00],\n",
              "         [0.0000e+00, 0.0000e+00, 0.0000e+00],\n",
              "         [0.0000e+00, 0.0000e+00, 0.0000e+00]]], device='cuda:0')"
            ]
          },
          "metadata": {}
        },
        {
          "output_type": "stream",
          "name": "stdout",
          "text": [
            "EPOCH: 8.000  train_log_var: -0.394  train_recon: 1244.671  train_loss: 1876.984  train_mean: 0.000  val_log_var: -0.394  val_loss: 1854.322  val_mean: 0.001  train_kld: 632.313  val_recon: 1230.859  val_kld: 623.463  (117.27s - 29.32s remaining)\n"
          ]
        },
        {
          "output_type": "display_data",
          "data": {
            "text/plain": [
              "tensor([[[0.0000e+00, 0.0000e+00, 0.0000e+00],\n",
              "         [0.0000e+00, 0.0000e+00, 0.0000e+00],\n",
              "         [0.0000e+00, 0.0000e+00, 0.0000e+00],\n",
              "         ...,\n",
              "         [0.0000e+00, 0.0000e+00, 0.0000e+00],\n",
              "         [0.0000e+00, 0.0000e+00, 0.0000e+00],\n",
              "         [0.0000e+00, 0.0000e+00, 0.0000e+00]],\n",
              "\n",
              "        [[0.0000e+00, 0.0000e+00, 0.0000e+00],\n",
              "         [0.0000e+00, 0.0000e+00, 0.0000e+00],\n",
              "         [0.0000e+00, 0.0000e+00, 0.0000e+00],\n",
              "         ...,\n",
              "         [0.0000e+00, 0.0000e+00, 0.0000e+00],\n",
              "         [0.0000e+00, 0.0000e+00, 0.0000e+00],\n",
              "         [0.0000e+00, 0.0000e+00, 0.0000e+00]],\n",
              "\n",
              "        [[0.0000e+00, 0.0000e+00, 0.0000e+00],\n",
              "         [0.0000e+00, 0.0000e+00, 0.0000e+00],\n",
              "         [6.6616e-04, 6.6616e-04, 6.6616e-04],\n",
              "         ...,\n",
              "         [1.2020e-05, 1.2020e-05, 1.2020e-05],\n",
              "         [0.0000e+00, 0.0000e+00, 0.0000e+00],\n",
              "         [0.0000e+00, 0.0000e+00, 0.0000e+00]],\n",
              "\n",
              "        ...,\n",
              "\n",
              "        [[0.0000e+00, 0.0000e+00, 0.0000e+00],\n",
              "         [0.0000e+00, 0.0000e+00, 0.0000e+00],\n",
              "         [1.0855e-03, 1.0855e-03, 1.0855e-03],\n",
              "         ...,\n",
              "         [1.0089e-03, 1.0089e-03, 1.0089e-03],\n",
              "         [0.0000e+00, 0.0000e+00, 0.0000e+00],\n",
              "         [0.0000e+00, 0.0000e+00, 0.0000e+00]],\n",
              "\n",
              "        [[0.0000e+00, 0.0000e+00, 0.0000e+00],\n",
              "         [0.0000e+00, 0.0000e+00, 0.0000e+00],\n",
              "         [0.0000e+00, 0.0000e+00, 0.0000e+00],\n",
              "         ...,\n",
              "         [0.0000e+00, 0.0000e+00, 0.0000e+00],\n",
              "         [0.0000e+00, 0.0000e+00, 0.0000e+00],\n",
              "         [0.0000e+00, 0.0000e+00, 0.0000e+00]],\n",
              "\n",
              "        [[0.0000e+00, 0.0000e+00, 0.0000e+00],\n",
              "         [0.0000e+00, 0.0000e+00, 0.0000e+00],\n",
              "         [0.0000e+00, 0.0000e+00, 0.0000e+00],\n",
              "         ...,\n",
              "         [0.0000e+00, 0.0000e+00, 0.0000e+00],\n",
              "         [0.0000e+00, 0.0000e+00, 0.0000e+00],\n",
              "         [0.0000e+00, 0.0000e+00, 0.0000e+00]]], device='cuda:0')"
            ]
          },
          "metadata": {}
        },
        {
          "output_type": "stream",
          "name": "stdout",
          "text": [
            "EPOCH: 9.000  train_log_var: -0.399  train_recon: 1218.032  train_loss: 1858.832  train_mean: 0.000  val_log_var: -0.401  val_loss: 1847.402  val_mean: 0.004  train_kld: 640.800  val_recon: 1212.004  val_kld: 635.398  (131.21s - 14.58s remaining)\n"
          ]
        },
        {
          "output_type": "display_data",
          "data": {
            "text/plain": [
              "tensor([[[0.0000e+00, 0.0000e+00, 0.0000e+00],\n",
              "         [0.0000e+00, 0.0000e+00, 0.0000e+00],\n",
              "         [0.0000e+00, 0.0000e+00, 0.0000e+00],\n",
              "         ...,\n",
              "         [0.0000e+00, 0.0000e+00, 0.0000e+00],\n",
              "         [0.0000e+00, 0.0000e+00, 0.0000e+00],\n",
              "         [0.0000e+00, 0.0000e+00, 0.0000e+00]],\n",
              "\n",
              "        [[0.0000e+00, 0.0000e+00, 0.0000e+00],\n",
              "         [0.0000e+00, 0.0000e+00, 0.0000e+00],\n",
              "         [0.0000e+00, 0.0000e+00, 0.0000e+00],\n",
              "         ...,\n",
              "         [0.0000e+00, 0.0000e+00, 0.0000e+00],\n",
              "         [0.0000e+00, 0.0000e+00, 0.0000e+00],\n",
              "         [0.0000e+00, 0.0000e+00, 0.0000e+00]],\n",
              "\n",
              "        [[0.0000e+00, 0.0000e+00, 0.0000e+00],\n",
              "         [0.0000e+00, 0.0000e+00, 0.0000e+00],\n",
              "         [6.9329e-04, 6.9329e-04, 6.9329e-04],\n",
              "         ...,\n",
              "         [3.9147e-05, 3.9147e-05, 3.9147e-05],\n",
              "         [0.0000e+00, 0.0000e+00, 0.0000e+00],\n",
              "         [0.0000e+00, 0.0000e+00, 0.0000e+00]],\n",
              "\n",
              "        ...,\n",
              "\n",
              "        [[0.0000e+00, 0.0000e+00, 0.0000e+00],\n",
              "         [0.0000e+00, 0.0000e+00, 0.0000e+00],\n",
              "         [8.1855e-05, 8.1855e-05, 8.1855e-05],\n",
              "         ...,\n",
              "         [1.3322e-05, 1.3322e-05, 1.3322e-05],\n",
              "         [0.0000e+00, 0.0000e+00, 0.0000e+00],\n",
              "         [0.0000e+00, 0.0000e+00, 0.0000e+00]],\n",
              "\n",
              "        [[0.0000e+00, 0.0000e+00, 0.0000e+00],\n",
              "         [0.0000e+00, 0.0000e+00, 0.0000e+00],\n",
              "         [0.0000e+00, 0.0000e+00, 0.0000e+00],\n",
              "         ...,\n",
              "         [0.0000e+00, 0.0000e+00, 0.0000e+00],\n",
              "         [0.0000e+00, 0.0000e+00, 0.0000e+00],\n",
              "         [0.0000e+00, 0.0000e+00, 0.0000e+00]],\n",
              "\n",
              "        [[0.0000e+00, 0.0000e+00, 0.0000e+00],\n",
              "         [0.0000e+00, 0.0000e+00, 0.0000e+00],\n",
              "         [0.0000e+00, 0.0000e+00, 0.0000e+00],\n",
              "         ...,\n",
              "         [0.0000e+00, 0.0000e+00, 0.0000e+00],\n",
              "         [0.0000e+00, 0.0000e+00, 0.0000e+00],\n",
              "         [0.0000e+00, 0.0000e+00, 0.0000e+00]]], device='cuda:0')"
            ]
          },
          "metadata": {}
        },
        {
          "output_type": "stream",
          "name": "stdout",
          "text": [
            "EPOCH: 10.000  train_log_var: -0.404  train_recon: 1199.372  train_loss: 1847.186  train_mean: 0.000  val_log_var: -0.409  val_loss: 1831.021  val_mean: 0.000  train_kld: 647.813  val_recon: 1177.434  val_kld: 653.587  (145.03s - 0.00s remaining)\n"
          ]
        },
        {
          "output_type": "display_data",
          "data": {
            "text/plain": [
              "tensor([[[0.0000e+00, 0.0000e+00, 0.0000e+00],\n",
              "         [0.0000e+00, 0.0000e+00, 0.0000e+00],\n",
              "         [0.0000e+00, 0.0000e+00, 0.0000e+00],\n",
              "         ...,\n",
              "         [0.0000e+00, 0.0000e+00, 0.0000e+00],\n",
              "         [0.0000e+00, 0.0000e+00, 0.0000e+00],\n",
              "         [0.0000e+00, 0.0000e+00, 0.0000e+00]],\n",
              "\n",
              "        [[0.0000e+00, 0.0000e+00, 0.0000e+00],\n",
              "         [0.0000e+00, 0.0000e+00, 0.0000e+00],\n",
              "         [0.0000e+00, 0.0000e+00, 0.0000e+00],\n",
              "         ...,\n",
              "         [0.0000e+00, 0.0000e+00, 0.0000e+00],\n",
              "         [0.0000e+00, 0.0000e+00, 0.0000e+00],\n",
              "         [0.0000e+00, 0.0000e+00, 0.0000e+00]],\n",
              "\n",
              "        [[0.0000e+00, 0.0000e+00, 0.0000e+00],\n",
              "         [0.0000e+00, 0.0000e+00, 0.0000e+00],\n",
              "         [5.5565e-05, 5.5565e-05, 5.5565e-05],\n",
              "         ...,\n",
              "         [4.9210e-04, 4.9210e-04, 4.9210e-04],\n",
              "         [0.0000e+00, 0.0000e+00, 0.0000e+00],\n",
              "         [0.0000e+00, 0.0000e+00, 0.0000e+00]],\n",
              "\n",
              "        ...,\n",
              "\n",
              "        [[0.0000e+00, 0.0000e+00, 0.0000e+00],\n",
              "         [0.0000e+00, 0.0000e+00, 0.0000e+00],\n",
              "         [1.5909e-04, 1.5909e-04, 1.5909e-04],\n",
              "         ...,\n",
              "         [5.3011e-04, 5.3011e-04, 5.3011e-04],\n",
              "         [0.0000e+00, 0.0000e+00, 0.0000e+00],\n",
              "         [0.0000e+00, 0.0000e+00, 0.0000e+00]],\n",
              "\n",
              "        [[0.0000e+00, 0.0000e+00, 0.0000e+00],\n",
              "         [0.0000e+00, 0.0000e+00, 0.0000e+00],\n",
              "         [0.0000e+00, 0.0000e+00, 0.0000e+00],\n",
              "         ...,\n",
              "         [0.0000e+00, 0.0000e+00, 0.0000e+00],\n",
              "         [0.0000e+00, 0.0000e+00, 0.0000e+00],\n",
              "         [0.0000e+00, 0.0000e+00, 0.0000e+00]],\n",
              "\n",
              "        [[0.0000e+00, 0.0000e+00, 0.0000e+00],\n",
              "         [0.0000e+00, 0.0000e+00, 0.0000e+00],\n",
              "         [0.0000e+00, 0.0000e+00, 0.0000e+00],\n",
              "         ...,\n",
              "         [0.0000e+00, 0.0000e+00, 0.0000e+00],\n",
              "         [0.0000e+00, 0.0000e+00, 0.0000e+00],\n",
              "         [0.0000e+00, 0.0000e+00, 0.0000e+00]]], device='cuda:0')"
            ]
          },
          "metadata": {}
        }
      ]
    },
    {
      "cell_type": "code",
      "source": [
        "log.plot_epochs(['train_loss','val_loss'])"
      ],
      "metadata": {
        "colab": {
          "base_uri": "https://localhost:8080/",
          "height": 559
        },
        "id": "PPoYbq9of4cB",
        "outputId": "e8792b3e-72d0-467c-867d-ab2e5952dced"
      },
      "execution_count": 15,
      "outputs": [
        {
          "output_type": "stream",
          "name": "stderr",
          "text": [
            "100%|██████████| 111/111 [00:00<00:00, 420.99it/s]\n"
          ]
        },
        {
          "output_type": "display_data",
          "data": {
            "text/plain": [
              "<Figure size 800x600 with 1 Axes>"
            ],
            "image/png": "[encoded data removed]"
          },
          "metadata": {}
        }
      ]
    },
    {
      "cell_type": "code",
      "source": [],
      "metadata": {
        "id": "hrIGhapdf78v"
      },
      "execution_count": null,
      "outputs": []
    }
  ]
}