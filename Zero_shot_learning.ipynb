{
  "nbformat": 4,
  "nbformat_minor": 0,
  "metadata": {
    "colab": {
      "provenance": [],
      "gpuType": "T4"
    },
    "kernelspec": {
      "name": "python3",
      "display_name": "Python 3"
    },
    "language_info": {
      "name": "python"
    },
    "accelerator": "GPU"
  },
  "cells": [
    {
      "cell_type": "code",
      "execution_count": 1,
      "metadata": {
        "colab": {
          "base_uri": "https://localhost:8080/"
        },
        "id": "8GCNUGKopb66",
        "outputId": "5b897aa8-45d9-462d-a699-55e994bf65b8"
      },
      "outputs": [
        {
          "output_type": "stream",
          "name": "stdout",
          "text": [
            "Cloning into 'zero-shot-learning'...\n",
            "remote: Enumerating objects: 102, done.\u001b[K\n",
            "remote: Counting objects: 100% (23/23), done.\u001b[K\n",
            "remote: Compressing objects: 100% (4/4), done.\u001b[K\n",
            "remote: Total 102 (delta 20), reused 19 (delta 19), pack-reused 79\u001b[K\n",
            "Receiving objects: 100% (102/102), 134.47 MiB | 36.22 MiB/s, done.\n",
            "Resolving deltas: 100% (45/45), done.\n",
            "\u001b[2K     \u001b[90m━━━━━━━━━━━━━━━━━━━━━━━━━━━━━━━━━━━━━━━━\u001b[0m \u001b[32m61.3/61.3 kB\u001b[0m \u001b[31m1.7 MB/s\u001b[0m eta \u001b[36m0:00:00\u001b[0m\n",
            "\u001b[2K     \u001b[90m━━━━━━━━━━━━━━━━━━━━━━━━━━━━━━━━━━━━━━━\u001b[0m \u001b[32m115.3/115.3 kB\u001b[0m \u001b[31m4.7 MB/s\u001b[0m eta \u001b[36m0:00:00\u001b[0m\n",
            "\u001b[2K     \u001b[90m━━━━━━━━━━━━━━━━━━━━━━━━━━━━━━━━━━━━━━━━\u001b[0m \u001b[32m60.0/60.0 kB\u001b[0m \u001b[31m4.0 MB/s\u001b[0m eta \u001b[36m0:00:00\u001b[0m\n",
            "\u001b[2K     \u001b[90m━━━━━━━━━━━━━━━━━━━━━━━━━━━━━━━━━━━━━━━━\u001b[0m \u001b[32m78.6/78.6 kB\u001b[0m \u001b[31m4.7 MB/s\u001b[0m eta \u001b[36m0:00:00\u001b[0m\n",
            "\u001b[?25h  Preparing metadata (setup.py) ... \u001b[?25l\u001b[?25hdone\n",
            "\u001b[2K     \u001b[90m━━━━━━━━━━━━━━━━━━━━━━━━━━━━━━━━━━━━━━━\u001b[0m \u001b[32m202.8/202.8 kB\u001b[0m \u001b[31m6.4 MB/s\u001b[0m eta \u001b[36m0:00:00\u001b[0m\n",
            "\u001b[2K     \u001b[90m━━━━━━━━━━━━━━━━━━━━━━━━━━━━━━━━━━━━━━━━\u001b[0m \u001b[32m14.1/14.1 MB\u001b[0m \u001b[31m15.3 MB/s\u001b[0m eta \u001b[36m0:00:00\u001b[0m\n",
            "\u001b[2K     \u001b[90m━━━━━━━━━━━━━━━━━━━━━━━━━━━━━━━━━━━━━━━━\u001b[0m \u001b[32m1.6/1.6 MB\u001b[0m \u001b[31m51.9 MB/s\u001b[0m eta \u001b[36m0:00:00\u001b[0m\n",
            "\u001b[2K     \u001b[90m━━━━━━━━━━━━━━━━━━━━━━━━━━━━━━━━━━━━━━━━\u001b[0m \u001b[32m98.8/98.8 kB\u001b[0m \u001b[31m13.8 MB/s\u001b[0m eta \u001b[36m0:00:00\u001b[0m\n",
            "\u001b[2K     \u001b[90m━━━━━━━━━━━━━━━━━━━━━━━━━━━━━━━━━━━━━━━━\u001b[0m \u001b[32m3.0/3.0 MB\u001b[0m \u001b[31m61.0 MB/s\u001b[0m eta \u001b[36m0:00:00\u001b[0m\n",
            "\u001b[2K     \u001b[90m━━━━━━━━━━━━━━━━━━━━━━━━━━━━━━━━━━━━━━\u001b[0m \u001b[32m172.5/172.5 kB\u001b[0m \u001b[31m20.8 MB/s\u001b[0m eta \u001b[36m0:00:00\u001b[0m\n",
            "\u001b[2K     \u001b[90m━━━━━━━━━━━━━━━━━━━━━━━━━━━━━━━━━━━━━━━━\u001b[0m \u001b[32m3.1/3.1 MB\u001b[0m \u001b[31m37.2 MB/s\u001b[0m eta \u001b[36m0:00:00\u001b[0m\n",
            "\u001b[2K     \u001b[90m━━━━━━━━━━━━━━━━━━━━━━━━━━━━━━━━━━━━━━\u001b[0m \u001b[32m468.9/468.9 kB\u001b[0m \u001b[31m48.9 MB/s\u001b[0m eta \u001b[36m0:00:00\u001b[0m\n",
            "\u001b[?25h  Building wheel for typing (setup.py) ... \u001b[?25l\u001b[?25hdone\n",
            "/content/zero-shot-learning/src\n"
          ]
        }
      ],
      "source": [
        "!git clone https://github.com/sizhky/zero-shot-learning/\n",
        "!pip install -Uq torch_snippets\n",
        "%cd zero-shot-learning/src\n",
        "import gzip\n",
        "import _pickle as cPickle\n",
        "from torch_snippets import *\n",
        "from sklearn.preprocessing import LabelEncoder, normalize\n",
        "device = 'cuda' if torch.cuda.is_available() else 'cpu'"
      ]
    },
    {
      "cell_type": "code",
      "source": [
        "WORD2VECPATH = \"../data/class_vectors.npy\"\n",
        "DATAPATH = \"../data/zeroshot_data.pkl\""
      ],
      "metadata": {
        "id": "XUTr8_wCpxRL"
      },
      "execution_count": 2,
      "outputs": []
    },
    {
      "cell_type": "code",
      "source": [
        "with open('train_classes.txt', 'r') as infile:\n",
        "    train_classes = [str.strip(line) for line in infile]"
      ],
      "metadata": {
        "id": "QlvWX4o_p4rF"
      },
      "execution_count": 3,
      "outputs": []
    },
    {
      "cell_type": "code",
      "source": [
        "with gzip.GzipFile(DATAPATH, 'rb') as infile:\n",
        "    data = cPickle.load(infile)"
      ],
      "metadata": {
        "id": "DuNqOHScqAXz"
      },
      "execution_count": 4,
      "outputs": []
    },
    {
      "cell_type": "code",
      "source": [
        "training_data = [instance for instance in data if instance[0] in train_classes]\n",
        "zero_shot_data = [instance for instance in data if instance[0] not in train_classes]\n",
        "np.random.shuffle(training_data)"
      ],
      "metadata": {
        "id": "1X4RwJ-SqFb3"
      },
      "execution_count": 5,
      "outputs": []
    },
    {
      "cell_type": "code",
      "source": [
        "train_size = 300 # per class\n",
        "train_data, valid_data = [], []\n",
        "for class_label in train_classes:\n",
        "    ctr = 0\n",
        "    for instance in training_data:\n",
        "        if instance[0] == class_label:\n",
        "            if ctr < train_size:\n",
        "                train_data.append(instance)\n",
        "                ctr+=1\n",
        "            else:\n",
        "                valid_data.append(instance)"
      ],
      "metadata": {
        "id": "7PwBu37XqH_f"
      },
      "execution_count": 6,
      "outputs": []
    },
    {
      "cell_type": "code",
      "source": [
        "np.random.shuffle(train_data)\n",
        "np.random.shuffle(valid_data)\n",
        "vectors = {i:j for i,j in np.load(WORD2VECPATH, allow_pickle=True)}"
      ],
      "metadata": {
        "id": "tQbBJe65qKOA"
      },
      "execution_count": 7,
      "outputs": []
    },
    {
      "cell_type": "code",
      "source": [
        "train_data = [(feat, vectors[clss]) for clss,feat in train_data]\n",
        "valid_data = [(feat, vectors[clss]) for clss,feat in valid_data]"
      ],
      "metadata": {
        "id": "BwwkQYI4qMJf"
      },
      "execution_count": 8,
      "outputs": []
    },
    {
      "cell_type": "code",
      "source": [
        "train_clss = [clss for clss,feat in train_data]\n",
        "valid_clss = [clss for clss,feat in valid_data]\n",
        "zero_shot_clss = [clss for clss,feat in zero_shot_data]"
      ],
      "metadata": {
        "id": "7xQZza1ZqWlA"
      },
      "execution_count": 9,
      "outputs": []
    },
    {
      "cell_type": "code",
      "source": [
        "x_train, y_train = zip(*train_data)\n",
        "x_train, y_train = np.squeeze(np.asarray(x_train)), np.squeeze(np.asarray(y_train))\n",
        "x_train = normalize(x_train, norm='l2')\n",
        "\n",
        "x_valid, y_valid = zip(*valid_data)\n",
        "x_valid, y_valid = np.squeeze(np.asarray(x_valid)), np.squeeze(np.asarray(y_valid))\n",
        "x_valid = normalize(x_valid, norm='l2')\n",
        "\n",
        "y_zsl, x_zsl = zip(*zero_shot_data)\n",
        "x_zsl, y_zsl = np.squeeze(np.asarray(x_zsl)), np.squeeze(np.asarray(y_zsl))\n",
        "x_zsl = normalize(x_zsl, norm='l2')"
      ],
      "metadata": {
        "id": "T1xrvkytqaib"
      },
      "execution_count": 10,
      "outputs": []
    },
    {
      "cell_type": "code",
      "source": [
        "from torch.utils.data import TensorDataset\n",
        "\n",
        "trn_ds = TensorDataset(*[torch.Tensor(t).to(device) for t in [x_train, y_train]])\n",
        "val_ds = TensorDataset(*[torch.Tensor(t).to(device) for t in [x_valid, y_valid]])\n",
        "\n",
        "trn_dl = DataLoader(trn_ds, batch_size=32, shuffle=True)\n",
        "val_dl = DataLoader(val_ds, batch_size=32, shuffle=False)"
      ],
      "metadata": {
        "id": "3Ai4isgQqfLd"
      },
      "execution_count": 11,
      "outputs": []
    },
    {
      "cell_type": "code",
      "source": [
        "def build_model():\n",
        "    return nn.Sequential(\n",
        "        nn.Linear(4096, 1024), nn.ReLU(inplace=True),\n",
        "        nn.BatchNorm1d(1024), nn.Dropout(0.8),\n",
        "        nn.Linear(1024, 512), nn.ReLU(inplace=True),\n",
        "        nn.BatchNorm1d(512), nn.Dropout(0.8),\n",
        "        nn.Linear(512, 256), nn.ReLU(inplace=True),\n",
        "        nn.BatchNorm1d(256), nn.Dropout(0.8),\n",
        "        nn.Linear(256, 300)\n",
        "    )"
      ],
      "metadata": {
        "id": "E1ieylhjq520"
      },
      "execution_count": 12,
      "outputs": []
    },
    {
      "cell_type": "code",
      "source": [
        "def train_batch(model, data, optimizer, criterion):\n",
        "    ims, labels = data\n",
        "    _preds = model(ims)\n",
        "    optimizer.zero_grad()\n",
        "    loss = criterion(_preds, labels)\n",
        "    loss.backward()\n",
        "    optimizer.step()\n",
        "    return loss.item()\n",
        "\n",
        "@torch.no_grad()\n",
        "def validate_batch(model, data, criterion):\n",
        "    ims, labels = data\n",
        "    _preds = model(ims)\n",
        "    loss = criterion(_preds, labels)\n",
        "    return loss.item()"
      ],
      "metadata": {
        "id": "AhffBlAvrLMI"
      },
      "execution_count": 13,
      "outputs": []
    },
    {
      "cell_type": "code",
      "source": [
        "model = build_model().to(device)\n",
        "criterion = nn.MSELoss()\n",
        "optimizer = optim.Adam(model.parameters(), lr=1e-3)\n",
        "n_epochs = 60\n",
        "\n",
        "log = Report(n_epochs)\n",
        "for ex in range(n_epochs):\n",
        "    N = len(trn_dl)\n",
        "    for bx, data in enumerate(trn_dl):\n",
        "        loss = train_batch(model, data, optimizer, criterion)\n",
        "        log.record(ex+(bx+1)/N, trn_loss=loss, end='\\r')\n",
        "\n",
        "    N = len(val_dl)\n",
        "    for bx, data in enumerate(val_dl):\n",
        "        loss = validate_batch(model, data, criterion)\n",
        "        log.record(ex+(bx+1)/N, val_loss=loss, end='\\r')\n",
        "\n",
        "    if ex == 10: optimizer = optim.Adam(model.parameters(), lr=1e-4)\n",
        "    if ex == 40: optimizer = optim.Adam(model.parameters(), lr=1e-5)\n",
        "    if not (ex+1)%10: log.report_avgs(ex+1)\n",
        "\n",
        "log.plot(log=True)"
      ],
      "metadata": {
        "colab": {
          "base_uri": "https://localhost:8080/",
          "height": 646
        },
        "id": "pl-NLk9WrNpp",
        "outputId": "5730e1be-1c84-4c7e-c929-d4d442c27266"
      },
      "execution_count": 14,
      "outputs": [
        {
          "output_type": "stream",
          "name": "stdout",
          "text": [
            "EPOCH: 10.000  trn_loss: 0.019  val_loss: 0.019  (14.56s - 72.80s remaining)\n",
            "EPOCH: 20.000  trn_loss: 0.014  val_loss: 0.014  (23.28s - 46.55s remaining)\n",
            "EPOCH: 30.000  trn_loss: 0.013  val_loss: 0.014  (31.39s - 31.39s remaining)\n",
            "EPOCH: 40.000  trn_loss: 0.012  val_loss: 0.013  (38.96s - 19.48s remaining)\n",
            "EPOCH: 50.000  trn_loss: 0.011  val_loss: 0.013  (46.93s - 9.39s remaining)\n",
            "EPOCH: 60.000  trn_loss: 0.011  val_loss: 0.013  (54.95s - 0.00s remaining)\n"
          ]
        },
        {
          "output_type": "display_data",
          "data": {
            "text/plain": [
              "<Figure size 800x600 with 1 Axes>"
            ],
            "image/png": "[encoded data removed]"
          },
          "metadata": {}
        }
      ]
    },
    {
      "cell_type": "code",
      "source": [
        "pred_zsl = model(torch.Tensor(x_zsl).to(device)).cpu().detach().numpy()\n",
        "\n",
        "class_vectors = sorted(np.load(WORD2VECPATH, allow_pickle=True), key=lambda x: x[0])\n",
        "classnames, vectors = zip(*class_vectors)\n",
        "classnames = list(classnames)\n",
        "\n",
        "vectors = np.array(vectors)"
      ],
      "metadata": {
        "id": "WVLuL9zurPr2"
      },
      "execution_count": 15,
      "outputs": []
    },
    {
      "cell_type": "code",
      "source": [
        "dists = (pred_zsl[None] - vectors[:,None])\n",
        "dists = (dists**2).sum(-1).T\n",
        "\n",
        "best_classes = []\n",
        "for item in dists:\n",
        "    best_classes.append([classnames[j] for j in np.argsort(item)[:5]])\n",
        "\n",
        "np.mean([i in J for i,J in zip(zero_shot_clss, best_classes)])"
      ],
      "metadata": {
        "colab": {
          "base_uri": "https://localhost:8080/"
        },
        "id": "o0UczvYHrR1x",
        "outputId": "614ff1f3-d8d8-4954-ac5d-9b8fb5007a69"
      },
      "execution_count": 16,
      "outputs": [
        {
          "output_type": "execute_result",
          "data": {
            "text/plain": [
              "0.720360180090045"
            ]
          },
          "metadata": {},
          "execution_count": 16
        }
      ]
    }
  ]
}