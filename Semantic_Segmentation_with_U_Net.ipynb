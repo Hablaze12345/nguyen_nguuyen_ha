{
  "nbformat": 4,
  "nbformat_minor": 0,
  "metadata": {
    "colab": {
      "provenance": [],
      "gpuType": "T4"
    },
    "kernelspec": {
      "name": "python3",
      "display_name": "Python 3"
    },
    "language_info": {
      "name": "python"
    },
    "accelerator": "GPU"
  },
  "cells": [
    {
      "cell_type": "code",
      "source": [
        "import os\n",
        "if not os.path.exists('dataset1'):\n",
        "    !wget -q https://www.dropbox.com/s/0pigmmmynbf9xwq/dataset1.zip\n",
        "    !unzip -q dataset1.zip\n",
        "    !rm dataset1.zip\n",
        "    !pip install -q torch_snippets pytorch_model_summary\n",
        "\n",
        "from torch_snippets import *\n",
        "from torchvision import transforms\n",
        "from sklearn.model_selection import train_test_split\n",
        "device = 'cuda' if torch.cuda.is_available() else 'cpu'"
      ],
      "metadata": {
        "id": "klEA0lZDFBxT"
      },
      "execution_count": 11,
      "outputs": []
    },
    {
      "cell_type": "code",
      "source": [
        "tfms = transforms.Compose([\n",
        "    transforms.ToTensor(),\n",
        "    transforms.Normalize([0.485, 0.456, 0.406], [0.229, 0.224, 0.225]) # imagenet\n",
        "])"
      ],
      "metadata": {
        "id": "ceoa_ZQMFDv-"
      },
      "execution_count": 12,
      "outputs": []
    },
    {
      "cell_type": "code",
      "source": [
        "class SegData(Dataset):\n",
        "    def __init__(self, split):\n",
        "        self.items = stems(f'dataset1/images_prepped_{split}')\n",
        "        self.split = split\n",
        "    def __len__(self):\n",
        "        return len(self.items)\n",
        "    def __getitem__(self, ix):\n",
        "        image = read(f'dataset1/images_prepped_{self.split}/{self.items[ix]}.png', 1)\n",
        "        image = cv2.resize(image, (224,224))\n",
        "        mask = read(f'dataset1/annotations_prepped_{self.split}/{self.items[ix]}.png')\n",
        "        mask = cv2.resize(mask, (224,224))\n",
        "        return image, mask\n",
        "    def choose(self): return self[randint(len(self))]\n",
        "    def collate_fn(self, batch):\n",
        "        ims, masks = list(zip(*batch))\n",
        "        ims = torch.cat([tfms(im.copy()/255.)[None] for im in ims]).float().to(device)\n",
        "        ce_masks = torch.cat([torch.Tensor(mask[None]) for mask in masks]).long().to(device)\n",
        "        return ims, ce_masks"
      ],
      "metadata": {
        "id": "O_uwaxZqFFqr"
      },
      "execution_count": 13,
      "outputs": []
    },
    {
      "cell_type": "code",
      "source": [
        "trn_ds = SegData('train')\n",
        "val_ds = SegData('test')\n",
        "trn_dl = DataLoader(trn_ds, batch_size=4, shuffle=True, collate_fn=trn_ds.collate_fn)\n",
        "val_dl = DataLoader(val_ds, batch_size=1, shuffle=True, collate_fn=val_ds.collate_fn)"
      ],
      "metadata": {
        "id": "MXd_jdWyFHrt"
      },
      "execution_count": 14,
      "outputs": []
    },
    {
      "cell_type": "code",
      "source": [
        "def conv(in_channels, out_channels):\n",
        "    return nn.Sequential(\n",
        "        nn.Conv2d(in_channels, out_channels, kernel_size=3, stride=1, padding=1),\n",
        "        nn.BatchNorm2d(out_channels),\n",
        "        nn.ReLU(inplace=True)\n",
        "    )"
      ],
      "metadata": {
        "id": "3_Bd5CxIFJzv"
      },
      "execution_count": 15,
      "outputs": []
    },
    {
      "cell_type": "code",
      "source": [
        "def up_conv(in_channels, out_channels):\n",
        "    return nn.Sequential(\n",
        "        nn.ConvTranspose2d(in_channels, out_channels, kernel_size=2, stride=2),\n",
        "        nn.ReLU(inplace=True)\n",
        "    )"
      ],
      "metadata": {
        "id": "I4CWKtFRFLso"
      },
      "execution_count": 16,
      "outputs": []
    },
    {
      "cell_type": "code",
      "source": [
        "from torchvision.models import vgg16_bn\n",
        "class UNet(nn.Module):\n",
        "    def __init__(self, pretrained=True, out_channels=12):\n",
        "        super().__init__()\n",
        "\n",
        "        self.encoder = vgg16_bn(pretrained=pretrained).features\n",
        "        self.block1 = nn.Sequential(*self.encoder[:6])\n",
        "        self.block2 = nn.Sequential(*self.encoder[6:13])\n",
        "        self.block3 = nn.Sequential(*self.encoder[13:20])\n",
        "        self.block4 = nn.Sequential(*self.encoder[20:27])\n",
        "        self.block5 = nn.Sequential(*self.encoder[27:34])\n",
        "\n",
        "        self.bottleneck = nn.Sequential(*self.encoder[34:])\n",
        "        self.conv_bottleneck = conv(512, 1024)\n",
        "\n",
        "        self.up_conv6 = up_conv(1024, 512)\n",
        "        self.conv6 = conv(512 + 512, 512)\n",
        "        self.up_conv7 = up_conv(512, 256)\n",
        "        self.conv7 = conv(256 + 512, 256)\n",
        "        self.up_conv8 = up_conv(256, 128)\n",
        "        self.conv8 = conv(128 + 256, 128)\n",
        "        self.up_conv9 = up_conv(128, 64)\n",
        "        self.conv9 = conv(64 + 128, 64)\n",
        "        self.up_conv10 = up_conv(64, 32)\n",
        "        self.conv10 = conv(32 + 64, 32)\n",
        "        self.conv11 = nn.Conv2d(32, out_channels, kernel_size=1)\n",
        "    def forward(self, x):\n",
        "        block1 = self.block1(x)\n",
        "        block2 = self.block2(block1)\n",
        "        block3 = self.block3(block2)\n",
        "        block4 = self.block4(block3)\n",
        "        block5 = self.block5(block4)\n",
        "\n",
        "        bottleneck = self.bottleneck(block5)\n",
        "        x = self.conv_bottleneck(bottleneck)\n",
        "\n",
        "        x = self.up_conv6(x)\n",
        "        x = torch.cat([x, block5], dim=1)\n",
        "        x = self.conv6(x)\n",
        "\n",
        "        x = self.up_conv7(x)\n",
        "        x = torch.cat([x, block4], dim=1)\n",
        "        x = self.conv7(x)\n",
        "\n",
        "        x = self.up_conv8(x)\n",
        "        x = torch.cat([x, block3], dim=1)\n",
        "        x = self.conv8(x)\n",
        "\n",
        "        x = self.up_conv9(x)\n",
        "        x = torch.cat([x, block2], dim=1)\n",
        "        x = self.conv9(x)\n",
        "\n",
        "        x = self.up_conv10(x)\n",
        "        x = torch.cat([x, block1], dim=1)\n",
        "        x = self.conv10(x)\n",
        "\n",
        "        x = self.conv11(x)\n",
        "\n",
        "        return x"
      ],
      "metadata": {
        "id": "TOxue2-SFNQi"
      },
      "execution_count": 17,
      "outputs": []
    },
    {
      "cell_type": "code",
      "source": [
        "ce = nn.CrossEntropyLoss()\n",
        "def UnetLoss(preds, targets):\n",
        "    ce_loss = ce(preds, targets)\n",
        "    acc = (torch.max(preds, 1)[1] == targets).float().mean()\n",
        "    return ce_loss, acc"
      ],
      "metadata": {
        "id": "fgETFDz6FPZe"
      },
      "execution_count": 18,
      "outputs": []
    },
    {
      "cell_type": "code",
      "source": [
        "def train_batch(model, data, optimizer, criterion):\n",
        "    model.train()\n",
        "    ims, ce_masks = data\n",
        "    _masks = model(ims)\n",
        "    optimizer.zero_grad()\n",
        "    loss, acc = criterion(_masks, ce_masks)\n",
        "    loss.backward()\n",
        "    optimizer.step()\n",
        "    return loss.item(), acc.item()\n",
        "\n",
        "@torch.no_grad()\n",
        "def validate_batch(model, data, criterion):\n",
        "    model.eval()\n",
        "    ims, masks = data\n",
        "    _masks = model(ims)\n",
        "    loss, acc = criterion(_masks, masks)\n",
        "    return loss.item(), acc.item()"
      ],
      "metadata": {
        "id": "DBgpDcPvFRni"
      },
      "execution_count": 19,
      "outputs": []
    },
    {
      "cell_type": "code",
      "source": [
        "model = UNet().to(device)\n",
        "criterion = UnetLoss\n",
        "optimizer = optim.Adam(model.parameters(), lr=1e-3)\n",
        "n_epochs = 20"
      ],
      "metadata": {
        "colab": {
          "base_uri": "https://localhost:8080/"
        },
        "id": "DGw2AWtPFUZR",
        "outputId": "304de18c-a9c3-46a9-c0fa-47339e60fbd6"
      },
      "execution_count": 20,
      "outputs": [
        {
          "output_type": "stream",
          "name": "stderr",
          "text": [
            "/usr/local/lib/python3.10/dist-packages/torchvision/models/_utils.py:208: UserWarning: The parameter 'pretrained' is deprecated since 0.13 and may be removed in the future, please use 'weights' instead.\n",
            "  warnings.warn(\n",
            "/usr/local/lib/python3.10/dist-packages/torchvision/models/_utils.py:223: UserWarning: Arguments other than a weight enum or `None` for 'weights' are deprecated since 0.13 and may be removed in the future. The current behavior is equivalent to passing `weights=VGG16_BN_Weights.IMAGENET1K_V1`. You can also use `weights=VGG16_BN_Weights.DEFAULT` to get the most up-to-date weights.\n",
            "  warnings.warn(msg)\n",
            "Downloading: \"https://download.pytorch.org/models/vgg16_bn-6c64b313.pth\" to /root/.cache/torch/hub/checkpoints/vgg16_bn-6c64b313.pth\n",
            "100%|██████████| 528M/528M [00:06<00:00, 88.3MB/s]\n"
          ]
        }
      ]
    },
    {
      "cell_type": "code",
      "source": [
        "log = Report(n_epochs)\n",
        "for ex in range(n_epochs):\n",
        "    N = len(trn_dl)\n",
        "    for bx, data in enumerate(trn_dl):\n",
        "        loss, acc = train_batch(model, data, optimizer, criterion)\n",
        "        log.record(ex+(bx+1)/N, trn_loss=loss, trn_acc=acc, end='\\r')\n",
        "\n",
        "    N = len(val_dl)\n",
        "    for bx, data in enumerate(val_dl):\n",
        "        loss, acc = validate_batch(model, data, criterion)\n",
        "        log.record(ex+(bx+1)/N, val_loss=loss, val_acc=acc, end='\\r')\n",
        "\n",
        "    log.report_avgs(ex+1)"
      ],
      "metadata": {
        "colab": {
          "base_uri": "https://localhost:8080/"
        },
        "id": "5Xrd7vw8FWi9",
        "outputId": "4104fd00-64a0-4006-8fe7-8b70e0f1407b"
      },
      "execution_count": 21,
      "outputs": [
        {
          "output_type": "stream",
          "name": "stdout",
          "text": [
            "EPOCH: 1.000  val_loss: 0.761  val_acc: 0.830  trn_loss: 1.138  trn_acc: 0.731  (27.56s - 523.69s remaining)\n",
            "EPOCH: 2.000  val_loss: 0.683  val_acc: 0.828  trn_loss: 0.692  trn_acc: 0.823  (45.12s - 406.06s remaining)\n",
            "EPOCH: 3.000  val_loss: 0.608  val_acc: 0.829  trn_loss: 0.556  trn_acc: 0.849  (63.03s - 357.16s remaining)\n",
            "EPOCH: 4.000  val_loss: 0.539  val_acc: 0.848  trn_loss: 0.510  trn_acc: 0.859  (81.30s - 325.18s remaining)\n",
            "EPOCH: 5.000  val_loss: 0.508  val_acc: 0.859  trn_loss: 0.476  trn_acc: 0.867  (99.34s - 298.03s remaining)\n",
            "EPOCH: 6.000  val_loss: 0.556  val_acc: 0.840  trn_loss: 0.442  trn_acc: 0.877  (118.44s - 276.36s remaining)\n",
            "EPOCH: 7.000  val_loss: 0.495  val_acc: 0.868  trn_loss: 0.401  trn_acc: 0.886  (136.67s - 253.82s remaining)\n",
            "EPOCH: 8.000  val_loss: 0.568  val_acc: 0.832  trn_loss: 0.368  trn_acc: 0.895  (155.57s - 233.36s remaining)\n",
            "EPOCH: 9.000  val_loss: 0.505  val_acc: 0.844  trn_loss: 0.348  trn_acc: 0.902  (173.93s - 212.58s remaining)\n",
            "EPOCH: 10.000  val_loss: 0.366  val_acc: 0.888  trn_loss: 0.325  trn_acc: 0.908  (192.18s - 192.18s remaining)\n",
            "EPOCH: 11.000  val_loss: 0.377  val_acc: 0.890  trn_loss: 0.304  trn_acc: 0.914  (210.74s - 172.43s remaining)\n",
            "EPOCH: 12.000  val_loss: 0.446  val_acc: 0.877  trn_loss: 0.293  trn_acc: 0.917  (229.00s - 152.67s remaining)\n",
            "EPOCH: 13.000  val_loss: 0.669  val_acc: 0.816  trn_loss: 0.274  trn_acc: 0.923  (247.75s - 133.41s remaining)\n",
            "EPOCH: 14.000  val_loss: 0.409  val_acc: 0.885  trn_loss: 0.276  trn_acc: 0.922  (266.02s - 114.01s remaining)\n",
            "EPOCH: 15.000  val_loss: 0.405  val_acc: 0.893  trn_loss: 0.262  trn_acc: 0.926  (284.73s - 94.91s remaining)\n",
            "EPOCH: 16.000  val_loss: 0.349  val_acc: 0.903  trn_loss: 0.246  trn_acc: 0.931  (302.99s - 75.75s remaining)\n",
            "EPOCH: 17.000  val_loss: 0.507  val_acc: 0.856  trn_loss: 0.244  trn_acc: 0.931  (321.10s - 56.66s remaining)\n",
            "EPOCH: 18.000  val_loss: 0.499  val_acc: 0.865  trn_loss: 0.273  trn_acc: 0.922  (339.63s - 37.74s remaining)\n",
            "EPOCH: 19.000  val_loss: 0.359  val_acc: 0.901  trn_loss: 0.241  trn_acc: 0.931  (357.89s - 18.84s remaining)\n",
            "EPOCH: 20.000  val_loss: 0.398  val_acc: 0.895  trn_loss: 0.217  trn_acc: 0.939  (376.53s - 0.00s remaining)\n"
          ]
        }
      ]
    },
    {
      "cell_type": "code",
      "source": [
        "log.plot_epochs(['trn_loss','val_loss'])"
      ],
      "metadata": {
        "colab": {
          "base_uri": "https://localhost:8080/",
          "height": 559
        },
        "id": "0eVr79MEFXJZ",
        "outputId": "231b4b29-076c-4572-e3a6-d05201a13ac9"
      },
      "execution_count": 22,
      "outputs": [
        {
          "output_type": "stream",
          "name": "stderr",
          "text": [
            "100%|██████████| 121/121 [00:00<00:00, 1521.46it/s]\n"
          ]
        },
        {
          "output_type": "display_data",
          "data": {
            "text/plain": [
              "<Figure size 800x600 with 1 Axes>"
            ],
            "image/png": "[encoded data removed]"
          },
          "metadata": {}
        }
      ]
    },
    {
      "cell_type": "code",
      "source": [
        "im, mask = next(iter(val_dl))\n",
        "_mask = model(im)\n",
        "_, _mask = torch.max(_mask, dim=1)\n",
        "subplots([im[0].permute(1,2,0).detach().cpu()[:,:,0], mask.permute(1,2,0).detach().cpu()[:,:,0]\n",
        ",_mask.permute(1,2,0).detach().cpu()[:,:,0]],\n",
        "nc=3, titles=['Original image','Original mask','Predicted mask'])"
      ],
      "metadata": {
        "colab": {
          "base_uri": "https://localhost:8080/",
          "height": 855
        },
        "id": "uTD8BM8aFbV1",
        "outputId": "d7a7f5f4-3d39-4bfd-c0e0-9cdecb89d3f0"
      },
      "execution_count": 23,
      "outputs": [
        {
          "output_type": "display_data",
          "data": {
            "text/plain": [
              "tensor([[-1.4329, -1.4672, -1.3987,  ..., -0.3369, -0.5082, -0.7993],\n",
              "        [-1.5357, -1.4329, -1.3815,  ..., -0.8507, -0.9020, -0.9705],\n",
              "        [-1.4672, -1.5014, -1.2103,  ..., -1.0219, -1.0390, -0.8849],\n",
              "        ...,\n",
              "        [-1.7925, -1.8610, -1.8610,  ..., -1.4672, -1.4329, -1.4500],\n",
              "        [-1.8439, -1.8610, -1.8610,  ..., -1.5014, -1.4843, -1.4329],\n",
              "        [-1.8268, -1.8268, -1.8439,  ..., -1.4843, -1.4672, -1.4843]])"
            ]
          },
          "metadata": {}
        },
        {
          "output_type": "display_data",
          "data": {
            "text/plain": [
              "tensor([[1, 1, 1,  ..., 5, 5, 5],\n",
              "        [1, 1, 1,  ..., 5, 5, 5],\n",
              "        [1, 1, 1,  ..., 5, 5, 5],\n",
              "        ...,\n",
              "        [4, 4, 4,  ..., 3, 3, 3],\n",
              "        [4, 4, 4,  ..., 3, 3, 3],\n",
              "        [4, 4, 4,  ..., 3, 3, 3]])"
            ]
          },
          "metadata": {}
        },
        {
          "output_type": "display_data",
          "data": {
            "text/plain": [
              "tensor([[1, 1, 1,  ..., 5, 5, 5],\n",
              "        [1, 1, 1,  ..., 5, 5, 5],\n",
              "        [1, 1, 1,  ..., 5, 5, 5],\n",
              "        ...,\n",
              "        [4, 4, 4,  ..., 3, 3, 3],\n",
              "        [4, 4, 4,  ..., 3, 3, 3],\n",
              "        [4, 4, 4,  ..., 3, 3, 3]])"
            ]
          },
          "metadata": {}
        },
        {
          "output_type": "display_data",
          "data": {
            "text/plain": [
              "<Figure size 500x500 with 3 Axes>"
            ],
            "image/png": "[encoded data removed]"
          },
          "metadata": {}
        }
      ]
    }
  ]
}